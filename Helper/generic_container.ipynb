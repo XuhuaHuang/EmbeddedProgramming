{
 "cells": [
  {
   "cell_type": "code",
   "execution_count": 1,
   "id": "bfa6789e",
   "metadata": {},
   "outputs": [],
   "source": [
    "#include <array>\n",
    "#include <compare>\n",
    "#include <concepts>\n",
    "#include <iomanip>\n",
    "#include <iostream>\n",
    "#include <valarray>\n",
    "#include <vector>\n",
    "\n",
    "#define gos std::cout << \"\\033[1;32m\" << \"[---log----] \" << __LINE__ << \"\\033[m\" << \" \" << std::boolalpha << std::fixed << std::setprecision(2)"
   ]
  },
  {
   "cell_type": "code",
   "execution_count": 2,
   "id": "1942a632",
   "metadata": {},
   "outputs": [],
   "source": [
    "template<typename T, std::size_t N>\n",
    "inline std::ostream& operator<<(std::ostream& os, const std::array<T, N>& c)\n",
    "{\n",
    "    os << '[';\n",
    "    for (auto it = std::begin(c); it != std::end(c); ++it)\n",
    "    {\n",
    "        os << *it;\n",
    "        if (it != std::end(c) - 1)\n",
    "        {\n",
    "            os << ',';\n",
    "            os << ' ';\n",
    "        }\n",
    "        else\n",
    "        {\n",
    "            continue;\n",
    "        }\n",
    "    }\n",
    "    os << ']';\n",
    "    return os;\n",
    "}"
   ]
  },
  {
   "cell_type": "code",
   "execution_count": 3,
   "id": "634b0898",
   "metadata": {},
   "outputs": [],
   "source": [
    "template<typename T, std::size_t N>\n",
    "struct std::equal_to<std::array<T, N>>\n",
    "{\n",
    "    [[nodiscard]] constexpr bool operator()(const std::array<T, N>& lhs, const std::array<T, N>& rhs) const\n",
    "        noexcept(noexcept(lhs[0] == rhs[0]))\n",
    "    {\n",
    "        for (std::size_t i = 0; i < N; ++i)\n",
    "        {\n",
    "            if (lhs[i] != rhs[i])\n",
    "                return false;\n",
    "        }\n",
    "        return true;\n",
    "    }\n",
    "};"
   ]
  },
  {
   "cell_type": "code",
   "execution_count": 4,
   "id": "ca174c94",
   "metadata": {},
   "outputs": [],
   "source": [
    "std::array<double, 4> arr_values = {0.0, 1.0, 2.0, 3.0};"
   ]
  },
  {
   "cell_type": "code",
   "execution_count": 5,
   "id": "5ae56b21",
   "metadata": {},
   "outputs": [
    {
     "data": {
      "text/plain": [
       "{ 0.0000000, 1.0000000, 2.0000000, 3.0000000 }"
      ]
     },
     "execution_count": 5,
     "metadata": {},
     "output_type": "execute_result"
    }
   ],
   "source": [
    "arr_values"
   ]
  },
  {
   "cell_type": "code",
   "execution_count": 6,
   "id": "17f0fb3d",
   "metadata": {},
   "outputs": [
    {
     "name": "stdout",
     "output_type": "stream",
     "text": [
      "\u001b[1;32m[---log----] 2\u001b[m [0.00, 1.00, 2.00, 3.00]\n"
     ]
    }
   ],
   "source": [
    "gos << arr_values << \"\\n\";"
   ]
  },
  {
   "cell_type": "code",
   "execution_count": 7,
   "id": "ced86833",
   "metadata": {},
   "outputs": [
    {
     "name": "stdout",
     "output_type": "stream",
     "text": [
      "\u001b[1;32m[---log----] 2\u001b[m true\n"
     ]
    }
   ],
   "source": [
    "gos << std::equal_to<decltype(arr_values)>{}(arr_values, arr_values) << \"\\n\";"
   ]
  }
 ],
 "metadata": {},
 "nbformat": 4,
 "nbformat_minor": 5
}
