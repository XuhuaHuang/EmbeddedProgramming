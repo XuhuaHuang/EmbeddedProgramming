{
 "cells": [
  {
   "cell_type": "markdown",
   "metadata": {},
   "source": [
    "# University of Michigan - Robotics\n",
    "# ROB 101, Fall 2021, Computational Linear Algebra\n",
    "Credits: <https://www.youtube.com/playlist?list=PLdPQZLMHRjDJ5d_dE4FeOviv0gRe4UYsB>"
   ]
  },
  {
   "cell_type": "markdown",
   "metadata": {},
   "source": [
    "## Lower triangular matrix\n",
    "\n",
    "A lower triangular matrix is a square matrix in which all entries above the main diagonal are zero.  \n",
    "\n",
    "Mathematically, for an `n×n` matrix `A`, it is `lower triangular` if `A[i, j] = 0` for all `i < j`, where `A[i, j]` represents the element in the `i-th` row and `j-th` column."
   ]
  },
  {
   "cell_type": "code",
   "execution_count": 1,
   "metadata": {},
   "outputs": [
    {
     "name": "stdout",
     "output_type": "stream",
     "text": [
      "Original Matrix A:\n",
      "[1 0 0; 2 3 0; 4 5 6]\n",
      "\n",
      "Lower Triangular Matrix:\n",
      "[1 0 0; 2 3 0; 4 5 6]\n"
     ]
    }
   ],
   "source": [
    "# Import the LinearAlgebra module for matrix-related functions\n",
    "using LinearAlgebra\n",
    "\n",
    "# Create a lower triangular matrix manually\n",
    "A = [1 0 0; 2 3 0; 4 5 6]\n",
    "\n",
    "# Convert the matrix to a lower triangular matrix\n",
    "lower_triangular_A = LowerTriangular(A)\n",
    "\n",
    "# Display the original and lower triangular matrices\n",
    "println(\"Original Matrix A:\")\n",
    "println(A)\n",
    "\n",
    "println(\"\\nLower Triangular Matrix:\")\n",
    "println(lower_triangular_A)"
   ]
  }
 ],
 "metadata": {
  "kernelspec": {
   "display_name": "Julia 1.9.3",
   "language": "julia",
   "name": "julia-1.9"
  },
  "language_info": {
   "file_extension": ".jl",
   "mimetype": "application/julia",
   "name": "julia",
   "version": "1.9.3"
  }
 },
 "nbformat": 4,
 "nbformat_minor": 2
}
