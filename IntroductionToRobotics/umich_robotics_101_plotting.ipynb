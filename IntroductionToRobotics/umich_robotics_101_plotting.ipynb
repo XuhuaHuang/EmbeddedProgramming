{
 "cells": [
  {
   "cell_type": "markdown",
   "metadata": {},
   "source": [
    "# University of Michigan - Robotics\n",
    "# ROB 101, Fall 2021, Computational Linear Algebra\n",
    "Credits: <https://www.youtube.com/playlist?list=PLdPQZLMHRjDJ5d_dE4FeOviv0gRe4UYsB>"
   ]
  },
  {
   "cell_type": "markdown",
   "metadata": {},
   "source": [
    "## Declaring matricies, vectors and manipulate"
   ]
  },
  {
   "cell_type": "code",
   "execution_count": 1,
   "metadata": {},
   "outputs": [
    {
     "data": {
      "text/plain": [
       "3×4 Matrix{Float64}:\n",
       " 0.579862  0.0149088  0.839622  0.946453\n",
       " 0.411294  0.520355   0.967143  0.574323\n",
       " 0.972136  0.639562   0.131026  0.67765"
      ]
     },
     "execution_count": 1,
     "metadata": {},
     "output_type": "execute_result"
    }
   ],
   "source": [
    "# We define some vectors and matrices\n",
    "row_vec = [1 3 5 7 9]\n",
    "almost_zero_vec = [0; 0; -pi; 0; 0; 0; 0]\n",
    "using Random  # Using an external package called Random which provides functions\n",
    "Random.seed!(1234)  # Set the seed so that the code is debuggable\n",
    "rand_matrix = rand(3, 4)"
   ]
  },
  {
   "cell_type": "code",
   "execution_count": 2,
   "metadata": {},
   "outputs": [
    {
     "data": {
      "text/plain": [
       "1"
      ]
     },
     "execution_count": 2,
     "metadata": {},
     "output_type": "execute_result"
    }
   ],
   "source": [
    "# Select the 1st number from a row_vector\n",
    "num = row_vec[1]"
   ]
  },
  {
   "cell_type": "code",
   "execution_count": 3,
   "metadata": {},
   "outputs": [
    {
     "data": {
      "text/plain": [
       "-3.141592653589793"
      ]
     },
     "execution_count": 3,
     "metadata": {},
     "output_type": "execute_result"
    }
   ],
   "source": [
    "# Select the non-zero number from previous almost_zero_vec\n",
    "num = almost_zero_vec[3]"
   ]
  },
  {
   "cell_type": "code",
   "execution_count": 4,
   "metadata": {},
   "outputs": [
    {
     "data": {
      "text/plain": [
       "3-element Vector{Float64}:\n",
       " 0.9464532262313834\n",
       " 0.5743234852783174\n",
       " 0.6776499075995779"
      ]
     },
     "execution_count": 4,
     "metadata": {},
     "output_type": "execute_result"
    }
   ],
   "source": [
    "# Select the 4th column of rand_matrix\n",
    "vect = rand_matrix[:, 4]"
   ]
  },
  {
   "cell_type": "code",
   "execution_count": 5,
   "metadata": {},
   "outputs": [
    {
     "data": {
      "text/plain": [
       "4-element Vector{Float64}:\n",
       " 0.5798621201341324\n",
       " 0.014908849285099945\n",
       " 0.8396219340580711\n",
       " 0.9464532262313834"
      ]
     },
     "execution_count": 5,
     "metadata": {},
     "output_type": "execute_result"
    }
   ],
   "source": [
    "# Select the 1st row of rand_matrix\n",
    "vect = rand_matrix[1, :]"
   ]
  },
  {
   "cell_type": "code",
   "execution_count": 6,
   "metadata": {},
   "outputs": [
    {
     "data": {
      "text/plain": [
       "1×4 Matrix{Float64}:\n",
       " 0.579862  0.0149088  0.839622  0.946453"
      ]
     },
     "execution_count": 6,
     "metadata": {},
     "output_type": "execute_result"
    }
   ],
   "source": [
    "# Select the 1st row of rand_matrix as a row vector\n",
    "row_vec = rand_matrix[1:1, 1:end]\n",
    "# 1:1 meaning selecting from row 1 to row 1 -> row 1 itself\n",
    "# 1:end meaning selecting from element 1 to end of row"
   ]
  },
  {
   "cell_type": "code",
   "execution_count": 7,
   "metadata": {},
   "outputs": [
    {
     "data": {
      "text/plain": [
       "1×4 Matrix{Float64}:\n",
       " 0.579862  0.0149088  0.839622  0.946453"
      ]
     },
     "execution_count": 7,
     "metadata": {},
     "output_type": "execute_result"
    }
   ],
   "source": [
    "# 1:end can be omitted for convenience\n",
    "row_vec = rand_matrix[1:1, :]"
   ]
  },
  {
   "cell_type": "code",
   "execution_count": 8,
   "metadata": {},
   "outputs": [
    {
     "data": {
      "text/plain": [
       "4×4 Matrix{Int64}:\n",
       " 1  2  3  0\n",
       " 4  5  6  0\n",
       " 7  8  9  0\n",
       " 0  0  0  0"
      ]
     },
     "execution_count": 8,
     "metadata": {},
     "output_type": "execute_result"
    }
   ],
   "source": [
    "# Declare a matrix\n",
    "A = [1 2 3 0; 4 5 6 0; 7 8 9 0; 0 0 0 0]"
   ]
  },
  {
   "cell_type": "code",
   "execution_count": 9,
   "metadata": {},
   "outputs": [
    {
     "data": {
      "text/plain": [
       "3×3 Matrix{Int64}:\n",
       " 1  2  3\n",
       " 4  5  6\n",
       " 7  8  9"
      ]
     },
     "execution_count": 9,
     "metadata": {},
     "output_type": "execute_result"
    }
   ],
   "source": [
    "# Select fist 3 rows, and first 3 elements of each row\n",
    "block = A[1:3, 1:3]"
   ]
  },
  {
   "cell_type": "code",
   "execution_count": 10,
   "metadata": {},
   "outputs": [
    {
     "data": {
      "text/plain": [
       "1×1 Matrix{Int64}:\n",
       " 5"
      ]
     },
     "execution_count": 10,
     "metadata": {},
     "output_type": "execute_result"
    }
   ],
   "source": [
    "# small_block is treated as a 1 by 1 matrix by Julia\n",
    "# in order to access the scalar value, we have to use the index operator\n",
    "small_block = block[2:2, 2:2]"
   ]
  },
  {
   "cell_type": "code",
   "execution_count": 11,
   "metadata": {},
   "outputs": [
    {
     "data": {
      "text/plain": [
       "5"
      ]
     },
     "execution_count": 11,
     "metadata": {},
     "output_type": "execute_result"
    }
   ],
   "source": [
    "block[2, 2]"
   ]
  },
  {
   "cell_type": "code",
   "execution_count": 12,
   "metadata": {},
   "outputs": [
    {
     "data": {
      "text/plain": [
       "0.6283185307179586"
      ]
     },
     "execution_count": 12,
     "metadata": {},
     "output_type": "execute_result"
    }
   ],
   "source": [
    "pi/small_block[1]"
   ]
  },
  {
   "cell_type": "code",
   "execution_count": 13,
   "metadata": {},
   "outputs": [
    {
     "data": {
      "text/plain": [
       "1×5 adjoint(::Vector{Int64}) with eltype Int64:\n",
       " 0  2  4  6  8"
      ]
     },
     "execution_count": 13,
     "metadata": {},
     "output_type": "execute_result"
    }
   ],
   "source": [
    "col_vec = [0; 2; 4; 6; 8]\n",
    "col_vec_transposed = col_vec'"
   ]
  },
  {
   "cell_type": "code",
   "execution_count": 14,
   "metadata": {},
   "outputs": [
    {
     "data": {
      "text/plain": [
       "1×4 adjoint(::Vector{Float64}) with eltype Float64:\n",
       " 0.579862  0.0149088  0.839622  0.946453"
      ]
     },
     "execution_count": 14,
     "metadata": {},
     "output_type": "execute_result"
    }
   ],
   "source": [
    "row_vec = rand_matrix[1, 1:end]'"
   ]
  },
  {
   "cell_type": "markdown",
   "metadata": {},
   "source": [
    "## For loops in Julia with matrices"
   ]
  },
  {
   "cell_type": "code",
   "execution_count": 15,
   "metadata": {},
   "outputs": [
    {
     "data": {
      "text/plain": [
       "3×3 Matrix{Int64}:\n",
       " 1  8  2\n",
       " 0  3  7\n",
       " 6  2  9"
      ]
     },
     "execution_count": 15,
     "metadata": {},
     "output_type": "execute_result"
    }
   ],
   "source": [
    "# Declare a 3-by-3 matrix\n",
    "A = [1 8 2; 0 3 7; 6 2 9]"
   ]
  },
  {
   "cell_type": "code",
   "execution_count": 16,
   "metadata": {},
   "outputs": [
    {
     "data": {
      "text/plain": [
       "13"
      ]
     },
     "execution_count": 16,
     "metadata": {},
     "output_type": "execute_result"
    }
   ],
   "source": [
    "# Compute the sum of the entries on the primary diagonal of A\n",
    "sum = A[1, 1] + A[2, 2] + A[3, 3]"
   ]
  },
  {
   "cell_type": "code",
   "execution_count": 17,
   "metadata": {},
   "outputs": [
    {
     "name": "stdout",
     "output_type": "stream",
     "text": [
      "1\n",
      "2\n",
      "3\n",
      "4\n",
      "5\n",
      "6\n",
      "7\n",
      "8\n",
      "9\n",
      "10\n"
     ]
    }
   ],
   "source": [
    "# Print the numbers from 1 to 10\n",
    "for k in 1:10\n",
    "    println(k)\n",
    "end"
   ]
  },
  {
   "cell_type": "markdown",
   "metadata": {},
   "source": [
    "If the range is defined as a set of numbers, the following syntax is also valid\n",
    "\n",
    "```\n",
    "for iterator = start:step:stop\n",
    "    statements to do stuff\n",
    "end\n",
    "```"
   ]
  },
  {
   "cell_type": "code",
   "execution_count": 18,
   "metadata": {},
   "outputs": [
    {
     "name": "stdout",
     "output_type": "stream",
     "text": [
      "2\n",
      "4\n",
      "6\n",
      "8\n",
      "10\n",
      "12\n",
      "14\n",
      "16\n",
      "18\n",
      "20\n"
     ]
    }
   ],
   "source": [
    "# Print the even numbers from 2 to 20\n",
    "# inclusive\n",
    "for k = 2:2:20\n",
    "    println(k)\n",
    "end"
   ]
  },
  {
   "cell_type": "code",
   "execution_count": 19,
   "metadata": {},
   "outputs": [
    {
     "data": {
      "text/plain": [
       "30×30 Matrix{Float64}:\n",
       " 0.579862   0.00543656  0.126386  …  0.571334   0.328323   0.673974\n",
       " 0.411294   0.698478    0.965243     0.124163   0.349247   0.245734\n",
       " 0.972136   0.349231    0.515818     0.587931   0.793972   0.316147\n",
       " 0.0149088  0.91097     0.488476     0.321161   0.0952038  0.585489\n",
       " 0.520355   0.973653    0.527837     0.531414   0.665992   0.852246\n",
       " 0.639562   0.76066     0.917137  …  0.59433    0.799811   0.580852\n",
       " 0.839622   0.488912    0.706951     0.290677   0.171014   0.183946\n",
       " 0.967143   0.362643    0.753203     0.855815   0.689584   0.202328\n",
       " 0.789764   0.708738    0.573645     0.555287   0.270649   0.488165\n",
       " 0.696041   0.656694    0.731872     0.861586   0.480495   0.988048\n",
       " 0.566704   0.173863    0.829076  …  0.711169   0.745688   0.405814\n",
       " 0.536369   0.69736     0.892646     0.698374   0.0675589  0.661413\n",
       " 0.711389   0.191723    0.806471     0.599969   0.661991   0.520162\n",
       " ⋮                                ⋱                        \n",
       " 0.715355   0.0177509   0.994935     0.297332   0.155305   0.774945\n",
       " 0.939548   0.774975    0.77916      0.365169   0.527729   0.591365\n",
       " 0.526344   0.216467    0.587688  …  0.841273   0.179544   0.229566\n",
       " 0.0779683  0.514119    0.381363     0.566666   0.606252   0.808455\n",
       " 0.966197   0.652465    0.42562      0.22972    0.706679   0.901708\n",
       " 0.666558   0.895855    0.661096     0.175631   0.104724   0.130924\n",
       " 0.333859   0.688344    0.195737     0.796953   0.578079   0.550256\n",
       " 0.802199   0.661561    0.811324  …  0.351131   0.889768   0.819181\n",
       " 0.156458   0.752155    0.594965     0.0457602  0.488776   0.131026\n",
       " 0.380799   0.869142    0.270995     0.807679   0.486645   0.946453\n",
       " 0.0687591  0.679021    0.566878     0.926269   0.209923   0.574323\n",
       " 0.861725   0.999183    0.607905     0.319058   0.928159   0.67765"
      ]
     },
     "execution_count": 19,
     "metadata": {},
     "output_type": "execute_result"
    }
   ],
   "source": [
    "using Random\n",
    "Random.seed!(1234)\n",
    "A = rand(30, 30)"
   ]
  },
  {
   "cell_type": "code",
   "execution_count": 20,
   "metadata": {},
   "outputs": [
    {
     "name": "stdout",
     "output_type": "stream",
     "text": [
      "15.828121297692357\n"
     ]
    }
   ],
   "source": [
    "# Compute the sum of the entries on the primary diagonal\n",
    "sum = 0\n",
    "for k = 1:30\n",
    "    sum += A[k, k]\n",
    "end\n",
    "println(sum)"
   ]
  },
  {
   "cell_type": "code",
   "execution_count": 21,
   "metadata": {},
   "outputs": [
    {
     "data": {
      "text/plain": [
       "3×3 Matrix{Int64}:\n",
       " 1  2  3\n",
       " 4  5  6\n",
       " 7  8  9"
      ]
     },
     "execution_count": 21,
     "metadata": {},
     "output_type": "execute_result"
    }
   ],
   "source": [
    "# Declare a 3-by-3 matrix\n",
    "A = [1 2 3; 4 5 6; 7 8 9]"
   ]
  },
  {
   "cell_type": "code",
   "execution_count": 22,
   "metadata": {},
   "outputs": [
    {
     "name": "stdout",
     "output_type": "stream",
     "text": [
      "1\n",
      "4\n",
      "5\n",
      "7\n",
      "8\n",
      "9\n"
     ]
    }
   ],
   "source": [
    "for i = 1:3\n",
    "    for j = 1:i\n",
    "        println(A[i, j])\n",
    "    end\n",
    "end"
   ]
  },
  {
   "cell_type": "markdown",
   "metadata": {},
   "source": [
    "## Solve a simple system of linear equations"
   ]
  },
  {
   "cell_type": "code",
   "execution_count": 23,
   "metadata": {},
   "outputs": [
    {
     "data": {
      "text/plain": [
       "3-element Vector{Float64}:\n",
       " -1.069603524229075\n",
       "  2.028193832599119\n",
       " -1.1691629955947136"
      ]
     },
     "execution_count": 23,
     "metadata": {},
     "output_type": "execute_result"
    }
   ],
   "source": [
    "# Declare a 3-by-3 matrix\n",
    "A = [1 3 6; 0 6 1; 7 8 2]\n",
    "b = [-2; 11; 6.4]\n",
    "# Compute the solution of Ax = b\n",
    "using LinearAlgebra\n",
    "x = inv(A) * b"
   ]
  },
  {
   "cell_type": "markdown",
   "metadata": {},
   "source": [
    "## Area of a shape via triangles\n",
    "\n",
    "Divide the shape into triangles and add up the area of each triangle."
   ]
  },
  {
   "cell_type": "code",
   "execution_count": 24,
   "metadata": {},
   "outputs": [
    {
     "data": {
      "image/png": "[encoded data removed]",
      "image/svg+xml": [
       "<?xml version=\"1.0\" encoding=\"utf-8\"?>\n",
       "<svg xmlns=\"http://www.w3.org/2000/svg\" xmlns:xlink=\"http://www.w3.org/1999/xlink\" width=\"600\" height=\"400\" viewBox=\"0 0 2400 1600\">\n",
       "<defs>\n",
       "  <clipPath id=\"clip910\">\n",
       "    <rect x=\"0\" y=\"0\" width=\"2400\" height=\"1600\"/>\n",
       "  </clipPath>\n",
       "</defs>\n",
       "<path clip-path=\"url(#clip910)\" d=\"M0 1600 L2400 1600 L2400 0 L0 0  Z\" fill=\"#ffffff\" fill-rule=\"evenodd\" fill-opacity=\"1\"/>\n",
       "<defs>\n",
       "  <clipPath id=\"clip911\">\n",
       "    <rect x=\"480\" y=\"0\" width=\"1681\" height=\"1600\"/>\n",
       "  </clipPath>\n",
       "</defs>\n",
       "<path clip-path=\"url(#clip910)\" d=\"M193.936 1486.45 L2352.76 1486.45 L2352.76 47.2441 L193.936 47.2441  Z\" fill=\"#ffffff\" fill-rule=\"evenodd\" fill-opacity=\"1\"/>\n",
       "<defs>\n",
       "  <clipPath id=\"clip912\">\n",
       "    <rect x=\"193\" y=\"47\" width=\"2160\" height=\"1440\"/>\n",
       "  </clipPath>\n",
       "</defs>\n",
       "<polyline clip-path=\"url(#clip912)\" style=\"stroke:#000000; stroke-linecap:round; stroke-linejoin:round; stroke-width:2; stroke-opacity:0.1; fill:none\" points=\"255.035,1486.45 255.035,47.2441 \"/>\n",
       "<polyline clip-path=\"url(#clip912)\" style=\"stroke:#000000; stroke-linecap:round; stroke-linejoin:round; stroke-width:2; stroke-opacity:0.1; fill:none\" points=\"764.191,1486.45 764.191,47.2441 \"/>\n",
       "<polyline clip-path=\"url(#clip912)\" style=\"stroke:#000000; stroke-linecap:round; stroke-linejoin:round; stroke-width:2; stroke-opacity:0.1; fill:none\" points=\"1273.35,1486.45 1273.35,47.2441 \"/>\n",
       "<polyline clip-path=\"url(#clip912)\" style=\"stroke:#000000; stroke-linecap:round; stroke-linejoin:round; stroke-width:2; stroke-opacity:0.1; fill:none\" points=\"1782.5,1486.45 1782.5,47.2441 \"/>\n",
       "<polyline clip-path=\"url(#clip912)\" style=\"stroke:#000000; stroke-linecap:round; stroke-linejoin:round; stroke-width:2; stroke-opacity:0.1; fill:none\" points=\"2291.66,1486.45 2291.66,47.2441 \"/>\n",
       "<polyline clip-path=\"url(#clip910)\" style=\"stroke:#000000; stroke-linecap:round; stroke-linejoin:round; stroke-width:4; stroke-opacity:1; fill:none\" points=\"193.936,1486.45 2352.76,1486.45 \"/>\n",
       "<polyline clip-path=\"url(#clip910)\" style=\"stroke:#000000; stroke-linecap:round; stroke-linejoin:round; stroke-width:4; stroke-opacity:1; fill:none\" points=\"255.035,1486.45 255.035,1467.55 \"/>\n",
       "<polyline clip-path=\"url(#clip910)\" style=\"stroke:#000000; stroke-linecap:round; stroke-linejoin:round; stroke-width:4; stroke-opacity:1; fill:none\" points=\"764.191,1486.45 764.191,1467.55 \"/>\n",
       "<polyline clip-path=\"url(#clip910)\" style=\"stroke:#000000; stroke-linecap:round; stroke-linejoin:round; stroke-width:4; stroke-opacity:1; fill:none\" points=\"1273.35,1486.45 1273.35,1467.55 \"/>\n",
       "<polyline clip-path=\"url(#clip910)\" style=\"stroke:#000000; stroke-linecap:round; stroke-linejoin:round; stroke-width:4; stroke-opacity:1; fill:none\" points=\"1782.5,1486.45 1782.5,1467.55 \"/>\n",
       "<polyline clip-path=\"url(#clip910)\" style=\"stroke:#000000; stroke-linecap:round; stroke-linejoin:round; stroke-width:4; stroke-opacity:1; fill:none\" points=\"2291.66,1486.45 2291.66,1467.55 \"/>\n",
       "<path clip-path=\"url(#clip910)\" d=\"M201.563 1532.02 L231.239 1532.02 L231.239 1535.95 L201.563 1535.95 L201.563 1532.02 Z\" fill=\"#000000\" fill-rule=\"nonzero\" fill-opacity=\"1\" /><path clip-path=\"url(#clip910)\" d=\"M242.141 1544.91 L249.78 1544.91 L249.78 1518.55 L241.47 1520.21 L241.47 1515.95 L249.734 1514.29 L254.41 1514.29 L254.41 1544.91 L262.049 1544.91 L262.049 1548.85 L242.141 1548.85 L242.141 1544.91 Z\" fill=\"#000000\" fill-rule=\"nonzero\" fill-opacity=\"1\" /><path clip-path=\"url(#clip910)\" d=\"M271.493 1542.97 L276.377 1542.97 L276.377 1548.85 L271.493 1548.85 L271.493 1542.97 Z\" fill=\"#000000\" fill-rule=\"nonzero\" fill-opacity=\"1\" /><path clip-path=\"url(#clip910)\" d=\"M296.562 1517.37 Q292.951 1517.37 291.122 1520.93 Q289.317 1524.47 289.317 1531.6 Q289.317 1538.71 291.122 1542.27 Q292.951 1545.82 296.562 1545.82 Q300.196 1545.82 302.002 1542.27 Q303.831 1538.71 303.831 1531.6 Q303.831 1524.47 302.002 1520.93 Q300.196 1517.37 296.562 1517.37 M296.562 1513.66 Q302.372 1513.66 305.428 1518.27 Q308.507 1522.85 308.507 1531.6 Q308.507 1540.33 305.428 1544.94 Q302.372 1549.52 296.562 1549.52 Q290.752 1549.52 287.673 1544.94 Q284.618 1540.33 284.618 1531.6 Q284.618 1522.85 287.673 1518.27 Q290.752 1513.66 296.562 1513.66 Z\" fill=\"#000000\" fill-rule=\"nonzero\" fill-opacity=\"1\" /><path clip-path=\"url(#clip910)\" d=\"M711.216 1532.02 L740.892 1532.02 L740.892 1535.95 L711.216 1535.95 L711.216 1532.02 Z\" fill=\"#000000\" fill-rule=\"nonzero\" fill-opacity=\"1\" /><path clip-path=\"url(#clip910)\" d=\"M760.985 1517.37 Q757.374 1517.37 755.545 1520.93 Q753.739 1524.47 753.739 1531.6 Q753.739 1538.71 755.545 1542.27 Q757.374 1545.82 760.985 1545.82 Q764.619 1545.82 766.424 1542.27 Q768.253 1538.71 768.253 1531.6 Q768.253 1524.47 766.424 1520.93 Q764.619 1517.37 760.985 1517.37 M760.985 1513.66 Q766.795 1513.66 769.85 1518.27 Q772.929 1522.85 772.929 1531.6 Q772.929 1540.33 769.85 1544.94 Q766.795 1549.52 760.985 1549.52 Q755.174 1549.52 752.096 1544.94 Q749.04 1540.33 749.04 1531.6 Q749.04 1522.85 752.096 1518.27 Q755.174 1513.66 760.985 1513.66 Z\" fill=\"#000000\" fill-rule=\"nonzero\" fill-opacity=\"1\" /><path clip-path=\"url(#clip910)\" d=\"M781.147 1542.97 L786.031 1542.97 L786.031 1548.85 L781.147 1548.85 L781.147 1542.97 Z\" fill=\"#000000\" fill-rule=\"nonzero\" fill-opacity=\"1\" /><path clip-path=\"url(#clip910)\" d=\"M796.262 1514.29 L814.619 1514.29 L814.619 1518.22 L800.545 1518.22 L800.545 1526.7 Q801.563 1526.35 802.582 1526.19 Q803.6 1526 804.619 1526 Q810.406 1526 813.785 1529.17 Q817.165 1532.34 817.165 1537.76 Q817.165 1543.34 813.693 1546.44 Q810.22 1549.52 803.901 1549.52 Q801.725 1549.52 799.457 1549.15 Q797.211 1548.78 794.804 1548.04 L794.804 1543.34 Q796.887 1544.47 799.109 1545.03 Q801.332 1545.58 803.808 1545.58 Q807.813 1545.58 810.151 1543.48 Q812.489 1541.37 812.489 1537.76 Q812.489 1534.15 810.151 1532.04 Q807.813 1529.94 803.808 1529.94 Q801.933 1529.94 800.058 1530.35 Q798.207 1530.77 796.262 1531.65 L796.262 1514.29 Z\" fill=\"#000000\" fill-rule=\"nonzero\" fill-opacity=\"1\" /><path clip-path=\"url(#clip910)\" d=\"M1250.73 1517.37 Q1247.12 1517.37 1245.29 1520.93 Q1243.49 1524.47 1243.49 1531.6 Q1243.49 1538.71 1245.29 1542.27 Q1247.12 1545.82 1250.73 1545.82 Q1254.37 1545.82 1256.17 1542.27 Q1258 1538.71 1258 1531.6 Q1258 1524.47 1256.17 1520.93 Q1254.37 1517.37 1250.73 1517.37 M1250.73 1513.66 Q1256.54 1513.66 1259.6 1518.27 Q1262.68 1522.85 1262.68 1531.6 Q1262.68 1540.33 1259.6 1544.94 Q1256.54 1549.52 1250.73 1549.52 Q1244.92 1549.52 1241.84 1544.94 Q1238.79 1540.33 1238.79 1531.6 Q1238.79 1522.85 1241.84 1518.27 Q1244.92 1513.66 1250.73 1513.66 Z\" fill=\"#000000\" fill-rule=\"nonzero\" fill-opacity=\"1\" /><path clip-path=\"url(#clip910)\" d=\"M1270.89 1542.97 L1275.78 1542.97 L1275.78 1548.85 L1270.89 1548.85 L1270.89 1542.97 Z\" fill=\"#000000\" fill-rule=\"nonzero\" fill-opacity=\"1\" /><path clip-path=\"url(#clip910)\" d=\"M1295.96 1517.37 Q1292.35 1517.37 1290.52 1520.93 Q1288.72 1524.47 1288.72 1531.6 Q1288.72 1538.71 1290.52 1542.27 Q1292.35 1545.82 1295.96 1545.82 Q1299.6 1545.82 1301.4 1542.27 Q1303.23 1538.71 1303.23 1531.6 Q1303.23 1524.47 1301.4 1520.93 Q1299.6 1517.37 1295.96 1517.37 M1295.96 1513.66 Q1301.77 1513.66 1304.83 1518.27 Q1307.91 1522.85 1307.91 1531.6 Q1307.91 1540.33 1304.83 1544.94 Q1301.77 1549.52 1295.96 1549.52 Q1290.15 1549.52 1287.07 1544.94 Q1284.02 1540.33 1284.02 1531.6 Q1284.02 1522.85 1287.07 1518.27 Q1290.15 1513.66 1295.96 1513.66 Z\" fill=\"#000000\" fill-rule=\"nonzero\" fill-opacity=\"1\" /><path clip-path=\"url(#clip910)\" d=\"M1760.38 1517.37 Q1756.77 1517.37 1754.94 1520.93 Q1753.14 1524.47 1753.14 1531.6 Q1753.14 1538.71 1754.94 1542.27 Q1756.77 1545.82 1760.38 1545.82 Q1764.02 1545.82 1765.82 1542.27 Q1767.65 1538.71 1767.65 1531.6 Q1767.65 1524.47 1765.82 1520.93 Q1764.02 1517.37 1760.38 1517.37 M1760.38 1513.66 Q1766.19 1513.66 1769.25 1518.27 Q1772.33 1522.85 1772.33 1531.6 Q1772.33 1540.33 1769.25 1544.94 Q1766.19 1549.52 1760.38 1549.52 Q1754.57 1549.52 1751.5 1544.94 Q1748.44 1540.33 1748.44 1531.6 Q1748.44 1522.85 1751.5 1518.27 Q1754.57 1513.66 1760.38 1513.66 Z\" fill=\"#000000\" fill-rule=\"nonzero\" fill-opacity=\"1\" /><path clip-path=\"url(#clip910)\" d=\"M1780.55 1542.97 L1785.43 1542.97 L1785.43 1548.85 L1780.55 1548.85 L1780.55 1542.97 Z\" fill=\"#000000\" fill-rule=\"nonzero\" fill-opacity=\"1\" /><path clip-path=\"url(#clip910)\" d=\"M1795.66 1514.29 L1814.02 1514.29 L1814.02 1518.22 L1799.94 1518.22 L1799.94 1526.7 Q1800.96 1526.35 1801.98 1526.19 Q1803 1526 1804.02 1526 Q1809.81 1526 1813.19 1529.17 Q1816.56 1532.34 1816.56 1537.76 Q1816.56 1543.34 1813.09 1546.44 Q1809.62 1549.52 1803.3 1549.52 Q1801.13 1549.52 1798.86 1549.15 Q1796.61 1548.78 1794.2 1548.04 L1794.2 1543.34 Q1796.29 1544.47 1798.51 1545.03 Q1800.73 1545.58 1803.21 1545.58 Q1807.21 1545.58 1809.55 1543.48 Q1811.89 1541.37 1811.89 1537.76 Q1811.89 1534.15 1809.55 1532.04 Q1807.21 1529.94 1803.21 1529.94 Q1801.33 1529.94 1799.46 1530.35 Q1797.61 1530.77 1795.66 1531.65 L1795.66 1514.29 Z\" fill=\"#000000\" fill-rule=\"nonzero\" fill-opacity=\"1\" /><path clip-path=\"url(#clip910)\" d=\"M2258.81 1544.91 L2266.45 1544.91 L2266.45 1518.55 L2258.14 1520.21 L2258.14 1515.95 L2266.4 1514.29 L2271.08 1514.29 L2271.08 1544.91 L2278.72 1544.91 L2278.72 1548.85 L2258.81 1548.85 L2258.81 1544.91 Z\" fill=\"#000000\" fill-rule=\"nonzero\" fill-opacity=\"1\" /><path clip-path=\"url(#clip910)\" d=\"M2288.16 1542.97 L2293.05 1542.97 L2293.05 1548.85 L2288.16 1548.85 L2288.16 1542.97 Z\" fill=\"#000000\" fill-rule=\"nonzero\" fill-opacity=\"1\" /><path clip-path=\"url(#clip910)\" d=\"M2313.23 1517.37 Q2309.62 1517.37 2307.79 1520.93 Q2305.99 1524.47 2305.99 1531.6 Q2305.99 1538.71 2307.79 1542.27 Q2309.62 1545.82 2313.23 1545.82 Q2316.87 1545.82 2318.67 1542.27 Q2320.5 1538.71 2320.5 1531.6 Q2320.5 1524.47 2318.67 1520.93 Q2316.87 1517.37 2313.23 1517.37 M2313.23 1513.66 Q2319.04 1513.66 2322.1 1518.27 Q2325.18 1522.85 2325.18 1531.6 Q2325.18 1540.33 2322.1 1544.94 Q2319.04 1549.52 2313.23 1549.52 Q2307.42 1549.52 2304.34 1544.94 Q2301.29 1540.33 2301.29 1531.6 Q2301.29 1522.85 2304.34 1518.27 Q2307.42 1513.66 2313.23 1513.66 Z\" fill=\"#000000\" fill-rule=\"nonzero\" fill-opacity=\"1\" /><polyline clip-path=\"url(#clip912)\" style=\"stroke:#000000; stroke-linecap:round; stroke-linejoin:round; stroke-width:2; stroke-opacity:0.1; fill:none\" points=\"193.936,1445.72 2352.76,1445.72 \"/>\n",
       "<polyline clip-path=\"url(#clip912)\" style=\"stroke:#000000; stroke-linecap:round; stroke-linejoin:round; stroke-width:2; stroke-opacity:0.1; fill:none\" points=\"193.936,1106.28 2352.76,1106.28 \"/>\n",
       "<polyline clip-path=\"url(#clip912)\" style=\"stroke:#000000; stroke-linecap:round; stroke-linejoin:round; stroke-width:2; stroke-opacity:0.1; fill:none\" points=\"193.936,766.845 2352.76,766.845 \"/>\n",
       "<polyline clip-path=\"url(#clip912)\" style=\"stroke:#000000; stroke-linecap:round; stroke-linejoin:round; stroke-width:2; stroke-opacity:0.1; fill:none\" points=\"193.936,427.41 2352.76,427.41 \"/>\n",
       "<polyline clip-path=\"url(#clip912)\" style=\"stroke:#000000; stroke-linecap:round; stroke-linejoin:round; stroke-width:2; stroke-opacity:0.1; fill:none\" points=\"193.936,87.9743 2352.76,87.9743 \"/>\n",
       "<polyline clip-path=\"url(#clip910)\" style=\"stroke:#000000; stroke-linecap:round; stroke-linejoin:round; stroke-width:4; stroke-opacity:1; fill:none\" points=\"193.936,1486.45 193.936,47.2441 \"/>\n",
       "<polyline clip-path=\"url(#clip910)\" style=\"stroke:#000000; stroke-linecap:round; stroke-linejoin:round; stroke-width:4; stroke-opacity:1; fill:none\" points=\"193.936,1445.72 212.834,1445.72 \"/>\n",
       "<polyline clip-path=\"url(#clip910)\" style=\"stroke:#000000; stroke-linecap:round; stroke-linejoin:round; stroke-width:4; stroke-opacity:1; fill:none\" points=\"193.936,1106.28 212.834,1106.28 \"/>\n",
       "<polyline clip-path=\"url(#clip910)\" style=\"stroke:#000000; stroke-linecap:round; stroke-linejoin:round; stroke-width:4; stroke-opacity:1; fill:none\" points=\"193.936,766.845 212.834,766.845 \"/>\n",
       "<polyline clip-path=\"url(#clip910)\" style=\"stroke:#000000; stroke-linecap:round; stroke-linejoin:round; stroke-width:4; stroke-opacity:1; fill:none\" points=\"193.936,427.41 212.834,427.41 \"/>\n",
       "<polyline clip-path=\"url(#clip910)\" style=\"stroke:#000000; stroke-linecap:round; stroke-linejoin:round; stroke-width:4; stroke-opacity:1; fill:none\" points=\"193.936,87.9743 212.834,87.9743 \"/>\n",
       "<path clip-path=\"url(#clip910)\" d=\"M50.9921 1446.17 L80.6679 1446.17 L80.6679 1450.1 L50.9921 1450.1 L50.9921 1446.17 Z\" fill=\"#000000\" fill-rule=\"nonzero\" fill-opacity=\"1\" /><path clip-path=\"url(#clip910)\" d=\"M91.5706 1459.06 L99.2095 1459.06 L99.2095 1432.7 L90.8993 1434.36 L90.8993 1430.1 L99.1632 1428.44 L103.839 1428.44 L103.839 1459.06 L111.478 1459.06 L111.478 1463 L91.5706 1463 L91.5706 1459.06 Z\" fill=\"#000000\" fill-rule=\"nonzero\" fill-opacity=\"1\" /><path clip-path=\"url(#clip910)\" d=\"M120.922 1457.12 L125.807 1457.12 L125.807 1463 L120.922 1463 L120.922 1457.12 Z\" fill=\"#000000\" fill-rule=\"nonzero\" fill-opacity=\"1\" /><path clip-path=\"url(#clip910)\" d=\"M145.992 1431.51 Q142.381 1431.51 140.552 1435.08 Q138.746 1438.62 138.746 1445.75 Q138.746 1452.86 140.552 1456.42 Q142.381 1459.96 145.992 1459.96 Q149.626 1459.96 151.431 1456.42 Q153.26 1452.86 153.26 1445.75 Q153.26 1438.62 151.431 1435.08 Q149.626 1431.51 145.992 1431.51 M145.992 1427.81 Q151.802 1427.81 154.857 1432.42 Q157.936 1437 157.936 1445.75 Q157.936 1454.48 154.857 1459.08 Q151.802 1463.67 145.992 1463.67 Q140.181 1463.67 137.103 1459.08 Q134.047 1454.48 134.047 1445.75 Q134.047 1437 137.103 1432.42 Q140.181 1427.81 145.992 1427.81 Z\" fill=\"#000000\" fill-rule=\"nonzero\" fill-opacity=\"1\" /><path clip-path=\"url(#clip910)\" d=\"M51.9875 1106.73 L81.6633 1106.73 L81.6633 1110.67 L51.9875 1110.67 L51.9875 1106.73 Z\" fill=\"#000000\" fill-rule=\"nonzero\" fill-opacity=\"1\" /><path clip-path=\"url(#clip910)\" d=\"M101.756 1092.08 Q98.1447 1092.08 96.316 1095.64 Q94.5104 1099.19 94.5104 1106.32 Q94.5104 1113.42 96.316 1116.99 Q98.1447 1120.53 101.756 1120.53 Q105.39 1120.53 107.196 1116.99 Q109.024 1113.42 109.024 1106.32 Q109.024 1099.19 107.196 1095.64 Q105.39 1092.08 101.756 1092.08 M101.756 1088.38 Q107.566 1088.38 110.621 1092.98 Q113.7 1097.57 113.7 1106.32 Q113.7 1115.04 110.621 1119.65 Q107.566 1124.23 101.756 1124.23 Q95.9456 1124.23 92.8669 1119.65 Q89.8114 1115.04 89.8114 1106.32 Q89.8114 1097.57 92.8669 1092.98 Q95.9456 1088.38 101.756 1088.38 Z\" fill=\"#000000\" fill-rule=\"nonzero\" fill-opacity=\"1\" /><path clip-path=\"url(#clip910)\" d=\"M121.918 1117.68 L126.802 1117.68 L126.802 1123.56 L121.918 1123.56 L121.918 1117.68 Z\" fill=\"#000000\" fill-rule=\"nonzero\" fill-opacity=\"1\" /><path clip-path=\"url(#clip910)\" d=\"M137.033 1089 L155.39 1089 L155.39 1092.94 L141.316 1092.94 L141.316 1101.41 Q142.334 1101.06 143.353 1100.9 Q144.371 1100.71 145.39 1100.71 Q151.177 1100.71 154.556 1103.88 Q157.936 1107.06 157.936 1112.47 Q157.936 1118.05 154.464 1121.15 Q150.992 1124.23 144.672 1124.23 Q142.496 1124.23 140.228 1123.86 Q137.982 1123.49 135.575 1122.75 L135.575 1118.05 Q137.658 1119.19 139.881 1119.74 Q142.103 1120.3 144.58 1120.3 Q148.584 1120.3 150.922 1118.19 Q153.26 1116.08 153.26 1112.47 Q153.26 1108.86 150.922 1106.76 Q148.584 1104.65 144.58 1104.65 Q142.705 1104.65 140.83 1105.07 Q138.978 1105.48 137.033 1106.36 L137.033 1089 Z\" fill=\"#000000\" fill-rule=\"nonzero\" fill-opacity=\"1\" /><path clip-path=\"url(#clip910)\" d=\"M100.76 752.644 Q97.1493 752.644 95.3206 756.209 Q93.515 759.75 93.515 766.88 Q93.515 773.986 95.3206 777.551 Q97.1493 781.093 100.76 781.093 Q104.395 781.093 106.2 777.551 Q108.029 773.986 108.029 766.88 Q108.029 759.75 106.2 756.209 Q104.395 752.644 100.76 752.644 M100.76 748.94 Q106.571 748.94 109.626 753.547 Q112.705 758.13 112.705 766.88 Q112.705 775.607 109.626 780.213 Q106.571 784.796 100.76 784.796 Q94.9502 784.796 91.8715 780.213 Q88.816 775.607 88.816 766.88 Q88.816 758.13 91.8715 753.547 Q94.9502 748.94 100.76 748.94 Z\" fill=\"#000000\" fill-rule=\"nonzero\" fill-opacity=\"1\" /><path clip-path=\"url(#clip910)\" d=\"M120.922 778.246 L125.807 778.246 L125.807 784.125 L120.922 784.125 L120.922 778.246 Z\" fill=\"#000000\" fill-rule=\"nonzero\" fill-opacity=\"1\" /><path clip-path=\"url(#clip910)\" d=\"M145.992 752.644 Q142.381 752.644 140.552 756.209 Q138.746 759.75 138.746 766.88 Q138.746 773.986 140.552 777.551 Q142.381 781.093 145.992 781.093 Q149.626 781.093 151.431 777.551 Q153.26 773.986 153.26 766.88 Q153.26 759.75 151.431 756.209 Q149.626 752.644 145.992 752.644 M145.992 748.94 Q151.802 748.94 154.857 753.547 Q157.936 758.13 157.936 766.88 Q157.936 775.607 154.857 780.213 Q151.802 784.796 145.992 784.796 Q140.181 784.796 137.103 780.213 Q134.047 775.607 134.047 766.88 Q134.047 758.13 137.103 753.547 Q140.181 748.94 145.992 748.94 Z\" fill=\"#000000\" fill-rule=\"nonzero\" fill-opacity=\"1\" /><path clip-path=\"url(#clip910)\" d=\"M101.756 413.208 Q98.1447 413.208 96.316 416.773 Q94.5104 420.315 94.5104 427.444 Q94.5104 434.551 96.316 438.116 Q98.1447 441.657 101.756 441.657 Q105.39 441.657 107.196 438.116 Q109.024 434.551 109.024 427.444 Q109.024 420.315 107.196 416.773 Q105.39 413.208 101.756 413.208 M101.756 409.505 Q107.566 409.505 110.621 414.111 Q113.7 418.695 113.7 427.444 Q113.7 436.171 110.621 440.778 Q107.566 445.361 101.756 445.361 Q95.9456 445.361 92.8669 440.778 Q89.8114 436.171 89.8114 427.444 Q89.8114 418.695 92.8669 414.111 Q95.9456 409.505 101.756 409.505 Z\" fill=\"#000000\" fill-rule=\"nonzero\" fill-opacity=\"1\" /><path clip-path=\"url(#clip910)\" d=\"M121.918 438.81 L126.802 438.81 L126.802 444.69 L121.918 444.69 L121.918 438.81 Z\" fill=\"#000000\" fill-rule=\"nonzero\" fill-opacity=\"1\" /><path clip-path=\"url(#clip910)\" d=\"M137.033 410.13 L155.39 410.13 L155.39 414.065 L141.316 414.065 L141.316 422.537 Q142.334 422.19 143.353 422.028 Q144.371 421.843 145.39 421.843 Q151.177 421.843 154.556 425.014 Q157.936 428.185 157.936 433.602 Q157.936 439.181 154.464 442.282 Q150.992 445.361 144.672 445.361 Q142.496 445.361 140.228 444.991 Q137.982 444.62 135.575 443.88 L135.575 439.181 Q137.658 440.315 139.881 440.87 Q142.103 441.426 144.58 441.426 Q148.584 441.426 150.922 439.319 Q153.26 437.213 153.26 433.602 Q153.26 429.991 150.922 427.884 Q148.584 425.778 144.58 425.778 Q142.705 425.778 140.83 426.194 Q138.978 426.611 137.033 427.491 L137.033 410.13 Z\" fill=\"#000000\" fill-rule=\"nonzero\" fill-opacity=\"1\" /><path clip-path=\"url(#clip910)\" d=\"M91.5706 101.319 L99.2095 101.319 L99.2095 74.9536 L90.8993 76.6202 L90.8993 72.361 L99.1632 70.6943 L103.839 70.6943 L103.839 101.319 L111.478 101.319 L111.478 105.254 L91.5706 105.254 L91.5706 101.319 Z\" fill=\"#000000\" fill-rule=\"nonzero\" fill-opacity=\"1\" /><path clip-path=\"url(#clip910)\" d=\"M120.922 99.3747 L125.807 99.3747 L125.807 105.254 L120.922 105.254 L120.922 99.3747 Z\" fill=\"#000000\" fill-rule=\"nonzero\" fill-opacity=\"1\" /><path clip-path=\"url(#clip910)\" d=\"M145.992 73.773 Q142.381 73.773 140.552 77.3378 Q138.746 80.8795 138.746 88.0091 Q138.746 95.1155 140.552 98.6803 Q142.381 102.222 145.992 102.222 Q149.626 102.222 151.431 98.6803 Q153.26 95.1155 153.26 88.0091 Q153.26 80.8795 151.431 77.3378 Q149.626 73.773 145.992 73.773 M145.992 70.0693 Q151.802 70.0693 154.857 74.6758 Q157.936 79.2591 157.936 88.0091 Q157.936 96.7359 154.857 101.342 Q151.802 105.926 145.992 105.926 Q140.181 105.926 137.103 101.342 Q134.047 96.7359 134.047 88.0091 Q134.047 79.2591 137.103 74.6758 Q140.181 70.0693 145.992 70.0693 Z\" fill=\"#000000\" fill-rule=\"nonzero\" fill-opacity=\"1\" /><polyline clip-path=\"url(#clip912)\" style=\"stroke:#009af9; stroke-linecap:round; stroke-linejoin:round; stroke-width:4; stroke-opacity:1; fill:none\" points=\"255.035,766.845 255.086,773.634 255.238,780.422 255.493,787.208 255.849,793.993 256.307,800.775 256.867,807.553 257.529,814.327 258.292,821.097 259.156,827.861 260.122,834.619 261.189,841.37 262.358,848.114 263.627,854.85 264.998,861.577 266.469,868.294 268.041,875.002 269.714,881.698 271.487,888.383 273.36,895.056 275.333,901.716 277.406,908.362 279.579,914.995 281.85,921.612 284.222,928.214 286.692,934.8 289.26,941.37 291.927,947.921 294.692,954.455 297.555,960.97 300.516,967.465 303.574,973.941 306.729,980.395 309.98,986.828 313.328,993.24 316.772,999.628 320.312,1005.99 323.947,1012.34 327.676,1018.65 331.501,1024.94 335.419,1031.21 339.432,1037.45 343.537,1043.66 347.736,1049.85 352.027,1056 356.411,1062.13 360.886,1068.23 365.452,1074.3 370.109,1080.33 374.857,1086.34 379.694,1092.31 384.62,1098.25 389.636,1104.16 394.74,1110.04 399.932,1115.88 405.211,1121.68 410.577,1127.45 416.029,1133.19 421.567,1138.88 427.19,1144.54 432.897,1150.16 438.689,1155.75 444.564,1161.29 450.523,1166.8 456.563,1172.26 462.685,1177.69 468.888,1183.07 475.172,1188.41 481.535,1193.71 487.978,1198.97 494.499,1204.19 501.098,1209.36 507.774,1214.48 514.527,1219.56 521.355,1224.6 528.259,1229.59 535.237,1234.53 542.29,1239.43 549.415,1244.28 556.613,1249.08 563.882,1253.84 571.222,1258.54 578.633,1263.2 586.113,1267.81 593.661,1272.36 601.278,1276.87 608.962,1281.32 616.712,1285.73 624.528,1290.08 632.409,1294.38 640.354,1298.62 648.362,1302.82 656.433,1306.96 664.565,1311.04 672.758,1315.07 681.012,1319.05 689.324,1322.97 697.695,1326.84 706.124,1330.65 714.609,1334.4 723.15,1338.1 731.746,1341.73 740.397,1345.32 749.1,1348.84 757.856,1352.31 766.664,1355.71 775.522,1359.06 784.43,1362.35 793.387,1365.58 802.392,1368.75 811.444,1371.86 820.542,1374.91 829.686,1377.9 838.874,1380.82 848.105,1383.69 857.379,1386.49 866.694,1389.24 876.05,1391.92 885.446,1394.53 894.881,1397.09 904.353,1399.58 913.863,1402.01 923.408,1404.37 932.988,1406.67 942.603,1408.91 952.25,1411.08 961.93,1413.19 971.64,1415.24 981.381,1417.21 991.151,1419.13 1000.95,1420.98 1010.77,1422.76 1020.63,1424.48 1030.5,1426.13 1040.4,1427.72 1050.33,1429.24 1060.28,1430.69 1070.24,1432.08 1080.23,1433.4 1090.24,1434.65 1100.27,1435.84 1110.31,1436.96 1120.37,1438.01 1130.45,1439 1140.53,1439.92 1150.64,1440.77 1160.75,1441.55 1170.88,1442.27 1181.01,1442.92 1191.16,1443.5 1201.31,1444.02 1211.48,1444.46 1221.64,1444.84 1231.81,1445.15 1241.99,1445.39 1252.17,1445.57 1262.35,1445.68 1272.54,1445.72 1282.72,1445.69 1292.9,1445.59 1303.08,1445.43 1313.26,1445.19 1323.43,1444.89 1333.6,1444.53 1343.76,1444.09 1353.92,1443.59 1364.06,1443.02 1374.2,1442.38 1384.33,1441.67 1394.45,1440.9 1404.55,1440.06 1414.64,1439.15 1424.72,1438.17 1434.78,1437.13 1444.83,1436.02 1454.86,1434.84 1464.87,1433.6 1474.86,1432.29 1484.83,1430.91 1494.78,1429.47 1504.71,1427.96 1514.61,1426.39 1524.5,1424.74 1534.35,1423.04 1544.18,1421.27 1553.98,1419.43 1563.76,1417.52 1573.5,1415.55 1583.22,1413.52 1592.9,1411.42 1602.56,1409.26 1612.18,1407.03 1621.76,1404.74 1631.31,1402.39 1640.83,1399.97 1650.31,1397.49 1659.75,1394.94 1669.15,1392.34 1678.51,1389.67 1687.83,1386.93 1697.11,1384.14 1706.35,1381.28 1715.55,1378.37 1724.7,1375.39 1733.8,1372.35 1742.86,1369.25 1751.87,1366.09 1760.84,1362.87 1769.76,1359.59 1778.62,1356.25 1787.44,1352.85 1796.2,1349.4 1804.91,1345.88 1813.57,1342.31 1822.18,1338.68 1830.73,1334.99 1839.22,1331.25 1847.66,1327.45 1856.04,1323.59 1864.36,1319.68 1872.62,1315.71 1880.83,1311.69 1888.97,1307.61 1897.05,1303.48 1905.07,1299.29 1913.02,1295.06 1920.91,1290.77 1928.74,1286.42 1936.5,1282.03 1944.2,1277.58 1951.82,1273.08 1959.38,1268.53 1966.87,1263.94 1974.3,1259.29 1981.65,1254.59 1988.93,1249.84 1996.14,1245.05 2003.27,1240.21 2010.34,1235.32 2017.33,1230.38 2024.24,1225.4 2031.08,1220.37 2037.85,1215.29 2044.54,1210.18 2051.15,1205.01 2057.68,1199.8 2064.14,1194.55 2070.51,1189.26 2076.81,1183.93 2083.03,1178.55 2089.16,1173.13 2095.21,1167.67 2101.19,1162.17 2107.07,1156.63 2112.88,1151.06 2118.6,1145.44 2124.24,1139.79 2129.79,1134.1 2135.25,1128.37 2140.63,1122.6 2145.93,1116.8 2151.13,1110.97 2156.25,1105.1 2161.28,1099.2 2166.22,1093.26 2171.07,1087.29 2175.83,1081.29 2180.51,1075.26 2185.09,1069.2 2189.58,1063.1 2193.97,1056.98 2198.28,1050.83 2202.49,1044.65 2206.61,1038.44 2210.64,1032.21 2214.57,1025.94 2218.41,1019.66 2222.16,1013.34 2225.81,1007.01 2229.36,1000.64 2232.82,994.259 2236.19,987.851 2239.45,981.421 2242.62,974.97 2245.7,968.498 2248.67,962.006 2251.55,955.494 2254.33,948.963 2257.01,942.414 2259.6,935.848 2262.08,929.265 2264.47,922.665 2266.76,916.05 2268.95,909.42 2271.04,902.775 2273.03,896.117 2274.91,889.447 2276.7,882.764 2278.39,876.069 2279.98,869.363 2281.47,862.647 2282.85,855.922 2284.14,849.188 2285.32,842.445 2286.41,835.695 2287.39,828.938 2288.27,822.175 2289.05,815.406 2289.73,808.632 2290.3,801.854 2290.78,795.073 2291.15,788.289 2291.42,781.503 2291.59,774.715 2291.66,767.926 2291.62,761.138 2291.49,754.35 2291.25,747.563 2290.91,740.778 2290.47,733.996 2289.92,727.217 2289.28,720.442 2288.53,713.671 2287.68,706.906 2286.73,700.147 2285.68,693.395 2284.53,686.65 2283.27,679.912 2281.92,673.184 2280.47,666.465 2278.91,659.756 2277.25,653.058 2275.5,646.371 2273.64,639.696 2271.68,633.034 2269.62,626.385 2267.47,619.751 2265.21,613.131 2262.86,606.526 2260.4,599.938 2257.85,593.366 2255.2,586.811 2252.45,580.275 2249.6,573.757 2246.66,567.258 2243.61,560.78 2240.47,554.322 2237.24,547.885 2233.9,541.47 2230.48,535.078 2226.95,528.709 2223.33,522.363 2219.62,516.042 2215.81,509.747 2211.9,503.477 2207.91,497.233 2203.82,491.016 2199.63,484.827 2195.36,478.666 2190.99,472.534 2186.53,466.431 2181.97,460.358 2177.33,454.316 2172.6,448.305 2167.78,442.326 2162.86,436.38 2157.86,430.466 2152.77,424.587 2147.59,418.741 2142.33,412.93 2136.98,407.155 2131.54,401.415 2126.01,395.713 2120.4,390.047 2114.71,384.419 2108.93,378.829 2103.07,373.278 2097.13,367.766 2091.1,362.294 2084.99,356.863 2078.8,351.473 2072.53,346.124 2066.18,340.817 2059.75,335.553 2053.24,330.332 2046.65,325.155 2039.99,320.022 2033.25,314.933 2026.43,309.89 2019.54,304.892 2012.57,299.941 2005.53,295.036 1998.42,290.179 1991.23,285.369 1983.97,280.607 1976.64,275.894 1969.25,271.23 1961.78,266.615 1954.24,262.051 1946.63,257.537 1938.96,253.074 1931.22,248.662 1923.41,244.303 1915.54,239.995 1907.61,235.74 1899.61,231.538 1891.55,227.39 1883.43,223.296 1875.24,219.256 1867,215.271 1858.7,211.341 1850.33,207.466 1841.92,203.648 1833.44,199.885 1824.91,196.18 1816.32,192.532 1807.68,188.94 1798.98,185.407 1790.23,181.932 1781.44,178.516 1772.59,175.158 1763.68,171.859 1754.74,168.62 1745.74,165.441 1736.69,162.322 1727.6,159.263 1718.47,156.265 1709.29,153.328 1700.06,150.453 1690.79,147.639 1681.49,144.887 1672.14,142.197 1662.75,139.57 1653.32,137.005 1643.85,134.504 1634.35,132.065 1624.81,129.69 1615.23,127.379 1605.62,125.132 1595.98,122.949 1586.31,120.83 1576.6,118.776 1566.87,116.787 1557.1,114.863 1547.31,113.004 1537.49,111.21 1527.64,109.482 1517.76,107.82 1507.87,106.223 1497.95,104.693 1488,103.228 1478.04,101.831 1468.05,100.499 1458.05,99.2346 1448.02,98.0367 1437.98,96.9057 1427.93,95.8416 1417.85,94.8446 1407.77,93.9149 1397.67,93.0524 1387.55,92.2573 1377.43,91.5297 1367.29,90.8696 1357.15,90.2771 1347,89.7523 1336.84,89.2951 1326.67,88.9057 1316.5,88.5842 1306.32,88.3304 1296.14,88.1445 1285.96,88.0264 1275.78,87.9763 1265.6,87.994 1255.41,88.0796 1245.23,88.2331 1235.06,88.4544 1224.88,88.7436 1214.71,89.1006 1204.55,89.5254 1194.39,90.0179 1184.25,90.5781 1174.11,91.2059 1163.98,91.9013 1153.86,92.6641 1143.75,93.4944 1133.66,94.392 1123.58,95.3569 1113.51,96.3889 1103.46,97.4879 1093.43,98.6539 1083.42,99.8867 1073.42,101.186 1063.45,102.552 1053.5,103.985 1043.56,105.484 1033.65,107.049 1023.77,108.679 1013.91,110.376 1004.08,112.138 994.269,113.966 984.49,115.859 974.74,117.818 965.019,119.841 955.33,121.929 945.672,124.081 936.047,126.297 926.456,128.578 916.899,130.923 907.378,133.331 897.894,135.802 888.447,138.337 879.039,140.934 869.67,143.594 860.342,146.316 851.055,149.101 841.81,151.947 832.608,154.854 823.45,157.823 814.337,160.853 805.271,163.943 796.25,167.094 787.278,170.304 778.354,173.574 769.48,176.904 760.656,180.292 751.884,183.74 743.163,187.245 734.496,190.809 725.883,194.43 717.324,198.108 708.821,201.843 700.374,205.635 691.984,209.483 683.653,213.386 675.381,217.345 667.168,221.359 659.016,225.427 650.926,229.55 642.898,233.726 634.933,237.955 627.031,242.238 619.195,246.573 611.423,250.96 603.718,255.398 596.08,259.888 588.51,264.428 581.008,269.019 573.575,273.659 566.212,278.349 558.92,283.087 551.7,287.874 544.551,292.709 537.476,297.591 530.474,302.521 523.546,307.496 516.694,312.518 509.917,317.585 503.216,322.697 496.592,327.853 490.046,333.053 483.579,338.297 477.19,343.583 470.881,348.912 464.652,354.282 458.504,359.694 452.438,365.147 446.453,370.639 440.552,376.172 434.733,381.743 428.999,387.353 423.349,393.001 417.784,398.686 412.304,404.408 406.911,410.166 401.604,415.96 396.384,421.789 391.252,427.653 386.208,433.55 381.253,439.481 376.388,445.445 371.612,451.44 366.926,457.467 362.33,463.526 357.826,469.614 353.413,475.732 349.093,481.88 344.865,488.055 340.729,494.259 336.687,500.49 332.739,506.748 328.884,513.031 325.124,519.34 321.459,525.674 317.889,532.032 314.415,538.413 311.036,544.817 307.754,551.244 304.568,557.691 301.48,564.16 298.488,570.649 295.594,577.158 292.797,583.686 290.099,590.232 287.499,596.795 284.998,603.376 282.595,609.973 280.291,616.586 278.087,623.214 275.983,629.856 273.978,636.511 272.073,643.18 270.268,649.862 268.563,656.554 266.959,663.258 265.456,669.973 264.053,676.697 262.751,683.43 261.55,690.171 260.451,696.92 259.453,703.676 258.556,710.438 257.761,717.206 257.067,723.979 256.475,730.756 255.984,737.537 255.595,744.321 255.308,751.107 255.123,757.894 255.04,764.683 \"/>\n",
       "</svg>\n"
      ],
      "text/html": [
       "<?xml version=\"1.0\" encoding=\"utf-8\"?>\n",
       "<svg xmlns=\"http://www.w3.org/2000/svg\" xmlns:xlink=\"http://www.w3.org/1999/xlink\" width=\"600\" height=\"400\" viewBox=\"0 0 2400 1600\">\n",
       "<defs>\n",
       "  <clipPath id=\"clip960\">\n",
       "    <rect x=\"0\" y=\"0\" width=\"2400\" height=\"1600\"/>\n",
       "  </clipPath>\n",
       "</defs>\n",
       "<path clip-path=\"url(#clip960)\" d=\"M0 1600 L2400 1600 L2400 0 L0 0  Z\" fill=\"#ffffff\" fill-rule=\"evenodd\" fill-opacity=\"1\"/>\n",
       "<defs>\n",
       "  <clipPath id=\"clip961\">\n",
       "    <rect x=\"480\" y=\"0\" width=\"1681\" height=\"1600\"/>\n",
       "  </clipPath>\n",
       "</defs>\n",
       "<path clip-path=\"url(#clip960)\" d=\"M193.936 1486.45 L2352.76 1486.45 L2352.76 47.2441 L193.936 47.2441  Z\" fill=\"#ffffff\" fill-rule=\"evenodd\" fill-opacity=\"1\"/>\n",
       "<defs>\n",
       "  <clipPath id=\"clip962\">\n",
       "    <rect x=\"193\" y=\"47\" width=\"2160\" height=\"1440\"/>\n",
       "  </clipPath>\n",
       "</defs>\n",
       "<polyline clip-path=\"url(#clip962)\" style=\"stroke:#000000; stroke-linecap:round; stroke-linejoin:round; stroke-width:2; stroke-opacity:0.1; fill:none\" points=\"255.035,1486.45 255.035,47.2441 \"/>\n",
       "<polyline clip-path=\"url(#clip962)\" style=\"stroke:#000000; stroke-linecap:round; stroke-linejoin:round; stroke-width:2; stroke-opacity:0.1; fill:none\" points=\"764.191,1486.45 764.191,47.2441 \"/>\n",
       "<polyline clip-path=\"url(#clip962)\" style=\"stroke:#000000; stroke-linecap:round; stroke-linejoin:round; stroke-width:2; stroke-opacity:0.1; fill:none\" points=\"1273.35,1486.45 1273.35,47.2441 \"/>\n",
       "<polyline clip-path=\"url(#clip962)\" style=\"stroke:#000000; stroke-linecap:round; stroke-linejoin:round; stroke-width:2; stroke-opacity:0.1; fill:none\" points=\"1782.5,1486.45 1782.5,47.2441 \"/>\n",
       "<polyline clip-path=\"url(#clip962)\" style=\"stroke:#000000; stroke-linecap:round; stroke-linejoin:round; stroke-width:2; stroke-opacity:0.1; fill:none\" points=\"2291.66,1486.45 2291.66,47.2441 \"/>\n",
       "<polyline clip-path=\"url(#clip960)\" style=\"stroke:#000000; stroke-linecap:round; stroke-linejoin:round; stroke-width:4; stroke-opacity:1; fill:none\" points=\"193.936,1486.45 2352.76,1486.45 \"/>\n",
       "<polyline clip-path=\"url(#clip960)\" style=\"stroke:#000000; stroke-linecap:round; stroke-linejoin:round; stroke-width:4; stroke-opacity:1; fill:none\" points=\"255.035,1486.45 255.035,1467.55 \"/>\n",
       "<polyline clip-path=\"url(#clip960)\" style=\"stroke:#000000; stroke-linecap:round; stroke-linejoin:round; stroke-width:4; stroke-opacity:1; fill:none\" points=\"764.191,1486.45 764.191,1467.55 \"/>\n",
       "<polyline clip-path=\"url(#clip960)\" style=\"stroke:#000000; stroke-linecap:round; stroke-linejoin:round; stroke-width:4; stroke-opacity:1; fill:none\" points=\"1273.35,1486.45 1273.35,1467.55 \"/>\n",
       "<polyline clip-path=\"url(#clip960)\" style=\"stroke:#000000; stroke-linecap:round; stroke-linejoin:round; stroke-width:4; stroke-opacity:1; fill:none\" points=\"1782.5,1486.45 1782.5,1467.55 \"/>\n",
       "<polyline clip-path=\"url(#clip960)\" style=\"stroke:#000000; stroke-linecap:round; stroke-linejoin:round; stroke-width:4; stroke-opacity:1; fill:none\" points=\"2291.66,1486.45 2291.66,1467.55 \"/>\n",
       "<path clip-path=\"url(#clip960)\" d=\"M201.563 1532.02 L231.239 1532.02 L231.239 1535.95 L201.563 1535.95 L201.563 1532.02 Z\" fill=\"#000000\" fill-rule=\"nonzero\" fill-opacity=\"1\" /><path clip-path=\"url(#clip960)\" d=\"M242.141 1544.91 L249.78 1544.91 L249.78 1518.55 L241.47 1520.21 L241.47 1515.95 L249.734 1514.29 L254.41 1514.29 L254.41 1544.91 L262.049 1544.91 L262.049 1548.85 L242.141 1548.85 L242.141 1544.91 Z\" fill=\"#000000\" fill-rule=\"nonzero\" fill-opacity=\"1\" /><path clip-path=\"url(#clip960)\" d=\"M271.493 1542.97 L276.377 1542.97 L276.377 1548.85 L271.493 1548.85 L271.493 1542.97 Z\" fill=\"#000000\" fill-rule=\"nonzero\" fill-opacity=\"1\" /><path clip-path=\"url(#clip960)\" d=\"M296.562 1517.37 Q292.951 1517.37 291.122 1520.93 Q289.317 1524.47 289.317 1531.6 Q289.317 1538.71 291.122 1542.27 Q292.951 1545.82 296.562 1545.82 Q300.196 1545.82 302.002 1542.27 Q303.831 1538.71 303.831 1531.6 Q303.831 1524.47 302.002 1520.93 Q300.196 1517.37 296.562 1517.37 M296.562 1513.66 Q302.372 1513.66 305.428 1518.27 Q308.507 1522.85 308.507 1531.6 Q308.507 1540.33 305.428 1544.94 Q302.372 1549.52 296.562 1549.52 Q290.752 1549.52 287.673 1544.94 Q284.618 1540.33 284.618 1531.6 Q284.618 1522.85 287.673 1518.27 Q290.752 1513.66 296.562 1513.66 Z\" fill=\"#000000\" fill-rule=\"nonzero\" fill-opacity=\"1\" /><path clip-path=\"url(#clip960)\" d=\"M711.216 1532.02 L740.892 1532.02 L740.892 1535.95 L711.216 1535.95 L711.216 1532.02 Z\" fill=\"#000000\" fill-rule=\"nonzero\" fill-opacity=\"1\" /><path clip-path=\"url(#clip960)\" d=\"M760.985 1517.37 Q757.374 1517.37 755.545 1520.93 Q753.739 1524.47 753.739 1531.6 Q753.739 1538.71 755.545 1542.27 Q757.374 1545.82 760.985 1545.82 Q764.619 1545.82 766.424 1542.27 Q768.253 1538.71 768.253 1531.6 Q768.253 1524.47 766.424 1520.93 Q764.619 1517.37 760.985 1517.37 M760.985 1513.66 Q766.795 1513.66 769.85 1518.27 Q772.929 1522.85 772.929 1531.6 Q772.929 1540.33 769.85 1544.94 Q766.795 1549.52 760.985 1549.52 Q755.174 1549.52 752.096 1544.94 Q749.04 1540.33 749.04 1531.6 Q749.04 1522.85 752.096 1518.27 Q755.174 1513.66 760.985 1513.66 Z\" fill=\"#000000\" fill-rule=\"nonzero\" fill-opacity=\"1\" /><path clip-path=\"url(#clip960)\" d=\"M781.147 1542.97 L786.031 1542.97 L786.031 1548.85 L781.147 1548.85 L781.147 1542.97 Z\" fill=\"#000000\" fill-rule=\"nonzero\" fill-opacity=\"1\" /><path clip-path=\"url(#clip960)\" d=\"M796.262 1514.29 L814.619 1514.29 L814.619 1518.22 L800.545 1518.22 L800.545 1526.7 Q801.563 1526.35 802.582 1526.19 Q803.6 1526 804.619 1526 Q810.406 1526 813.785 1529.17 Q817.165 1532.34 817.165 1537.76 Q817.165 1543.34 813.693 1546.44 Q810.22 1549.52 803.901 1549.52 Q801.725 1549.52 799.457 1549.15 Q797.211 1548.78 794.804 1548.04 L794.804 1543.34 Q796.887 1544.47 799.109 1545.03 Q801.332 1545.58 803.808 1545.58 Q807.813 1545.58 810.151 1543.48 Q812.489 1541.37 812.489 1537.76 Q812.489 1534.15 810.151 1532.04 Q807.813 1529.94 803.808 1529.94 Q801.933 1529.94 800.058 1530.35 Q798.207 1530.77 796.262 1531.65 L796.262 1514.29 Z\" fill=\"#000000\" fill-rule=\"nonzero\" fill-opacity=\"1\" /><path clip-path=\"url(#clip960)\" d=\"M1250.73 1517.37 Q1247.12 1517.37 1245.29 1520.93 Q1243.49 1524.47 1243.49 1531.6 Q1243.49 1538.71 1245.29 1542.27 Q1247.12 1545.82 1250.73 1545.82 Q1254.37 1545.82 1256.17 1542.27 Q1258 1538.71 1258 1531.6 Q1258 1524.47 1256.17 1520.93 Q1254.37 1517.37 1250.73 1517.37 M1250.73 1513.66 Q1256.54 1513.66 1259.6 1518.27 Q1262.68 1522.85 1262.68 1531.6 Q1262.68 1540.33 1259.6 1544.94 Q1256.54 1549.52 1250.73 1549.52 Q1244.92 1549.52 1241.84 1544.94 Q1238.79 1540.33 1238.79 1531.6 Q1238.79 1522.85 1241.84 1518.27 Q1244.92 1513.66 1250.73 1513.66 Z\" fill=\"#000000\" fill-rule=\"nonzero\" fill-opacity=\"1\" /><path clip-path=\"url(#clip960)\" d=\"M1270.89 1542.97 L1275.78 1542.97 L1275.78 1548.85 L1270.89 1548.85 L1270.89 1542.97 Z\" fill=\"#000000\" fill-rule=\"nonzero\" fill-opacity=\"1\" /><path clip-path=\"url(#clip960)\" d=\"M1295.96 1517.37 Q1292.35 1517.37 1290.52 1520.93 Q1288.72 1524.47 1288.72 1531.6 Q1288.72 1538.71 1290.52 1542.27 Q1292.35 1545.82 1295.96 1545.82 Q1299.6 1545.82 1301.4 1542.27 Q1303.23 1538.71 1303.23 1531.6 Q1303.23 1524.47 1301.4 1520.93 Q1299.6 1517.37 1295.96 1517.37 M1295.96 1513.66 Q1301.77 1513.66 1304.83 1518.27 Q1307.91 1522.85 1307.91 1531.6 Q1307.91 1540.33 1304.83 1544.94 Q1301.77 1549.52 1295.96 1549.52 Q1290.15 1549.52 1287.07 1544.94 Q1284.02 1540.33 1284.02 1531.6 Q1284.02 1522.85 1287.07 1518.27 Q1290.15 1513.66 1295.96 1513.66 Z\" fill=\"#000000\" fill-rule=\"nonzero\" fill-opacity=\"1\" /><path clip-path=\"url(#clip960)\" d=\"M1760.38 1517.37 Q1756.77 1517.37 1754.94 1520.93 Q1753.14 1524.47 1753.14 1531.6 Q1753.14 1538.71 1754.94 1542.27 Q1756.77 1545.82 1760.38 1545.82 Q1764.02 1545.82 1765.82 1542.27 Q1767.65 1538.71 1767.65 1531.6 Q1767.65 1524.47 1765.82 1520.93 Q1764.02 1517.37 1760.38 1517.37 M1760.38 1513.66 Q1766.19 1513.66 1769.25 1518.27 Q1772.33 1522.85 1772.33 1531.6 Q1772.33 1540.33 1769.25 1544.94 Q1766.19 1549.52 1760.38 1549.52 Q1754.57 1549.52 1751.5 1544.94 Q1748.44 1540.33 1748.44 1531.6 Q1748.44 1522.85 1751.5 1518.27 Q1754.57 1513.66 1760.38 1513.66 Z\" fill=\"#000000\" fill-rule=\"nonzero\" fill-opacity=\"1\" /><path clip-path=\"url(#clip960)\" d=\"M1780.55 1542.97 L1785.43 1542.97 L1785.43 1548.85 L1780.55 1548.85 L1780.55 1542.97 Z\" fill=\"#000000\" fill-rule=\"nonzero\" fill-opacity=\"1\" /><path clip-path=\"url(#clip960)\" d=\"M1795.66 1514.29 L1814.02 1514.29 L1814.02 1518.22 L1799.94 1518.22 L1799.94 1526.7 Q1800.96 1526.35 1801.98 1526.19 Q1803 1526 1804.02 1526 Q1809.81 1526 1813.19 1529.17 Q1816.56 1532.34 1816.56 1537.76 Q1816.56 1543.34 1813.09 1546.44 Q1809.62 1549.52 1803.3 1549.52 Q1801.13 1549.52 1798.86 1549.15 Q1796.61 1548.78 1794.2 1548.04 L1794.2 1543.34 Q1796.29 1544.47 1798.51 1545.03 Q1800.73 1545.58 1803.21 1545.58 Q1807.21 1545.58 1809.55 1543.48 Q1811.89 1541.37 1811.89 1537.76 Q1811.89 1534.15 1809.55 1532.04 Q1807.21 1529.94 1803.21 1529.94 Q1801.33 1529.94 1799.46 1530.35 Q1797.61 1530.77 1795.66 1531.65 L1795.66 1514.29 Z\" fill=\"#000000\" fill-rule=\"nonzero\" fill-opacity=\"1\" /><path clip-path=\"url(#clip960)\" d=\"M2258.81 1544.91 L2266.45 1544.91 L2266.45 1518.55 L2258.14 1520.21 L2258.14 1515.95 L2266.4 1514.29 L2271.08 1514.29 L2271.08 1544.91 L2278.72 1544.91 L2278.72 1548.85 L2258.81 1548.85 L2258.81 1544.91 Z\" fill=\"#000000\" fill-rule=\"nonzero\" fill-opacity=\"1\" /><path clip-path=\"url(#clip960)\" d=\"M2288.16 1542.97 L2293.05 1542.97 L2293.05 1548.85 L2288.16 1548.85 L2288.16 1542.97 Z\" fill=\"#000000\" fill-rule=\"nonzero\" fill-opacity=\"1\" /><path clip-path=\"url(#clip960)\" d=\"M2313.23 1517.37 Q2309.62 1517.37 2307.79 1520.93 Q2305.99 1524.47 2305.99 1531.6 Q2305.99 1538.71 2307.79 1542.27 Q2309.62 1545.82 2313.23 1545.82 Q2316.87 1545.82 2318.67 1542.27 Q2320.5 1538.71 2320.5 1531.6 Q2320.5 1524.47 2318.67 1520.93 Q2316.87 1517.37 2313.23 1517.37 M2313.23 1513.66 Q2319.04 1513.66 2322.1 1518.27 Q2325.18 1522.85 2325.18 1531.6 Q2325.18 1540.33 2322.1 1544.94 Q2319.04 1549.52 2313.23 1549.52 Q2307.42 1549.52 2304.34 1544.94 Q2301.29 1540.33 2301.29 1531.6 Q2301.29 1522.85 2304.34 1518.27 Q2307.42 1513.66 2313.23 1513.66 Z\" fill=\"#000000\" fill-rule=\"nonzero\" fill-opacity=\"1\" /><polyline clip-path=\"url(#clip962)\" style=\"stroke:#000000; stroke-linecap:round; stroke-linejoin:round; stroke-width:2; stroke-opacity:0.1; fill:none\" points=\"193.936,1445.72 2352.76,1445.72 \"/>\n",
       "<polyline clip-path=\"url(#clip962)\" style=\"stroke:#000000; stroke-linecap:round; stroke-linejoin:round; stroke-width:2; stroke-opacity:0.1; fill:none\" points=\"193.936,1106.28 2352.76,1106.28 \"/>\n",
       "<polyline clip-path=\"url(#clip962)\" style=\"stroke:#000000; stroke-linecap:round; stroke-linejoin:round; stroke-width:2; stroke-opacity:0.1; fill:none\" points=\"193.936,766.845 2352.76,766.845 \"/>\n",
       "<polyline clip-path=\"url(#clip962)\" style=\"stroke:#000000; stroke-linecap:round; stroke-linejoin:round; stroke-width:2; stroke-opacity:0.1; fill:none\" points=\"193.936,427.41 2352.76,427.41 \"/>\n",
       "<polyline clip-path=\"url(#clip962)\" style=\"stroke:#000000; stroke-linecap:round; stroke-linejoin:round; stroke-width:2; stroke-opacity:0.1; fill:none\" points=\"193.936,87.9743 2352.76,87.9743 \"/>\n",
       "<polyline clip-path=\"url(#clip960)\" style=\"stroke:#000000; stroke-linecap:round; stroke-linejoin:round; stroke-width:4; stroke-opacity:1; fill:none\" points=\"193.936,1486.45 193.936,47.2441 \"/>\n",
       "<polyline clip-path=\"url(#clip960)\" style=\"stroke:#000000; stroke-linecap:round; stroke-linejoin:round; stroke-width:4; stroke-opacity:1; fill:none\" points=\"193.936,1445.72 212.834,1445.72 \"/>\n",
       "<polyline clip-path=\"url(#clip960)\" style=\"stroke:#000000; stroke-linecap:round; stroke-linejoin:round; stroke-width:4; stroke-opacity:1; fill:none\" points=\"193.936,1106.28 212.834,1106.28 \"/>\n",
       "<polyline clip-path=\"url(#clip960)\" style=\"stroke:#000000; stroke-linecap:round; stroke-linejoin:round; stroke-width:4; stroke-opacity:1; fill:none\" points=\"193.936,766.845 212.834,766.845 \"/>\n",
       "<polyline clip-path=\"url(#clip960)\" style=\"stroke:#000000; stroke-linecap:round; stroke-linejoin:round; stroke-width:4; stroke-opacity:1; fill:none\" points=\"193.936,427.41 212.834,427.41 \"/>\n",
       "<polyline clip-path=\"url(#clip960)\" style=\"stroke:#000000; stroke-linecap:round; stroke-linejoin:round; stroke-width:4; stroke-opacity:1; fill:none\" points=\"193.936,87.9743 212.834,87.9743 \"/>\n",
       "<path clip-path=\"url(#clip960)\" d=\"M50.9921 1446.17 L80.6679 1446.17 L80.6679 1450.1 L50.9921 1450.1 L50.9921 1446.17 Z\" fill=\"#000000\" fill-rule=\"nonzero\" fill-opacity=\"1\" /><path clip-path=\"url(#clip960)\" d=\"M91.5706 1459.06 L99.2095 1459.06 L99.2095 1432.7 L90.8993 1434.36 L90.8993 1430.1 L99.1632 1428.44 L103.839 1428.44 L103.839 1459.06 L111.478 1459.06 L111.478 1463 L91.5706 1463 L91.5706 1459.06 Z\" fill=\"#000000\" fill-rule=\"nonzero\" fill-opacity=\"1\" /><path clip-path=\"url(#clip960)\" d=\"M120.922 1457.12 L125.807 1457.12 L125.807 1463 L120.922 1463 L120.922 1457.12 Z\" fill=\"#000000\" fill-rule=\"nonzero\" fill-opacity=\"1\" /><path clip-path=\"url(#clip960)\" d=\"M145.992 1431.51 Q142.381 1431.51 140.552 1435.08 Q138.746 1438.62 138.746 1445.75 Q138.746 1452.86 140.552 1456.42 Q142.381 1459.96 145.992 1459.96 Q149.626 1459.96 151.431 1456.42 Q153.26 1452.86 153.26 1445.75 Q153.26 1438.62 151.431 1435.08 Q149.626 1431.51 145.992 1431.51 M145.992 1427.81 Q151.802 1427.81 154.857 1432.42 Q157.936 1437 157.936 1445.75 Q157.936 1454.48 154.857 1459.08 Q151.802 1463.67 145.992 1463.67 Q140.181 1463.67 137.103 1459.08 Q134.047 1454.48 134.047 1445.75 Q134.047 1437 137.103 1432.42 Q140.181 1427.81 145.992 1427.81 Z\" fill=\"#000000\" fill-rule=\"nonzero\" fill-opacity=\"1\" /><path clip-path=\"url(#clip960)\" d=\"M51.9875 1106.73 L81.6633 1106.73 L81.6633 1110.67 L51.9875 1110.67 L51.9875 1106.73 Z\" fill=\"#000000\" fill-rule=\"nonzero\" fill-opacity=\"1\" /><path clip-path=\"url(#clip960)\" d=\"M101.756 1092.08 Q98.1447 1092.08 96.316 1095.64 Q94.5104 1099.19 94.5104 1106.32 Q94.5104 1113.42 96.316 1116.99 Q98.1447 1120.53 101.756 1120.53 Q105.39 1120.53 107.196 1116.99 Q109.024 1113.42 109.024 1106.32 Q109.024 1099.19 107.196 1095.64 Q105.39 1092.08 101.756 1092.08 M101.756 1088.38 Q107.566 1088.38 110.621 1092.98 Q113.7 1097.57 113.7 1106.32 Q113.7 1115.04 110.621 1119.65 Q107.566 1124.23 101.756 1124.23 Q95.9456 1124.23 92.8669 1119.65 Q89.8114 1115.04 89.8114 1106.32 Q89.8114 1097.57 92.8669 1092.98 Q95.9456 1088.38 101.756 1088.38 Z\" fill=\"#000000\" fill-rule=\"nonzero\" fill-opacity=\"1\" /><path clip-path=\"url(#clip960)\" d=\"M121.918 1117.68 L126.802 1117.68 L126.802 1123.56 L121.918 1123.56 L121.918 1117.68 Z\" fill=\"#000000\" fill-rule=\"nonzero\" fill-opacity=\"1\" /><path clip-path=\"url(#clip960)\" d=\"M137.033 1089 L155.39 1089 L155.39 1092.94 L141.316 1092.94 L141.316 1101.41 Q142.334 1101.06 143.353 1100.9 Q144.371 1100.71 145.39 1100.71 Q151.177 1100.71 154.556 1103.88 Q157.936 1107.06 157.936 1112.47 Q157.936 1118.05 154.464 1121.15 Q150.992 1124.23 144.672 1124.23 Q142.496 1124.23 140.228 1123.86 Q137.982 1123.49 135.575 1122.75 L135.575 1118.05 Q137.658 1119.19 139.881 1119.74 Q142.103 1120.3 144.58 1120.3 Q148.584 1120.3 150.922 1118.19 Q153.26 1116.08 153.26 1112.47 Q153.26 1108.86 150.922 1106.76 Q148.584 1104.65 144.58 1104.65 Q142.705 1104.65 140.83 1105.07 Q138.978 1105.48 137.033 1106.36 L137.033 1089 Z\" fill=\"#000000\" fill-rule=\"nonzero\" fill-opacity=\"1\" /><path clip-path=\"url(#clip960)\" d=\"M100.76 752.644 Q97.1493 752.644 95.3206 756.209 Q93.515 759.75 93.515 766.88 Q93.515 773.986 95.3206 777.551 Q97.1493 781.093 100.76 781.093 Q104.395 781.093 106.2 777.551 Q108.029 773.986 108.029 766.88 Q108.029 759.75 106.2 756.209 Q104.395 752.644 100.76 752.644 M100.76 748.94 Q106.571 748.94 109.626 753.547 Q112.705 758.13 112.705 766.88 Q112.705 775.607 109.626 780.213 Q106.571 784.796 100.76 784.796 Q94.9502 784.796 91.8715 780.213 Q88.816 775.607 88.816 766.88 Q88.816 758.13 91.8715 753.547 Q94.9502 748.94 100.76 748.94 Z\" fill=\"#000000\" fill-rule=\"nonzero\" fill-opacity=\"1\" /><path clip-path=\"url(#clip960)\" d=\"M120.922 778.246 L125.807 778.246 L125.807 784.125 L120.922 784.125 L120.922 778.246 Z\" fill=\"#000000\" fill-rule=\"nonzero\" fill-opacity=\"1\" /><path clip-path=\"url(#clip960)\" d=\"M145.992 752.644 Q142.381 752.644 140.552 756.209 Q138.746 759.75 138.746 766.88 Q138.746 773.986 140.552 777.551 Q142.381 781.093 145.992 781.093 Q149.626 781.093 151.431 777.551 Q153.26 773.986 153.26 766.88 Q153.26 759.75 151.431 756.209 Q149.626 752.644 145.992 752.644 M145.992 748.94 Q151.802 748.94 154.857 753.547 Q157.936 758.13 157.936 766.88 Q157.936 775.607 154.857 780.213 Q151.802 784.796 145.992 784.796 Q140.181 784.796 137.103 780.213 Q134.047 775.607 134.047 766.88 Q134.047 758.13 137.103 753.547 Q140.181 748.94 145.992 748.94 Z\" fill=\"#000000\" fill-rule=\"nonzero\" fill-opacity=\"1\" /><path clip-path=\"url(#clip960)\" d=\"M101.756 413.208 Q98.1447 413.208 96.316 416.773 Q94.5104 420.315 94.5104 427.444 Q94.5104 434.551 96.316 438.116 Q98.1447 441.657 101.756 441.657 Q105.39 441.657 107.196 438.116 Q109.024 434.551 109.024 427.444 Q109.024 420.315 107.196 416.773 Q105.39 413.208 101.756 413.208 M101.756 409.505 Q107.566 409.505 110.621 414.111 Q113.7 418.695 113.7 427.444 Q113.7 436.171 110.621 440.778 Q107.566 445.361 101.756 445.361 Q95.9456 445.361 92.8669 440.778 Q89.8114 436.171 89.8114 427.444 Q89.8114 418.695 92.8669 414.111 Q95.9456 409.505 101.756 409.505 Z\" fill=\"#000000\" fill-rule=\"nonzero\" fill-opacity=\"1\" /><path clip-path=\"url(#clip960)\" d=\"M121.918 438.81 L126.802 438.81 L126.802 444.69 L121.918 444.69 L121.918 438.81 Z\" fill=\"#000000\" fill-rule=\"nonzero\" fill-opacity=\"1\" /><path clip-path=\"url(#clip960)\" d=\"M137.033 410.13 L155.39 410.13 L155.39 414.065 L141.316 414.065 L141.316 422.537 Q142.334 422.19 143.353 422.028 Q144.371 421.843 145.39 421.843 Q151.177 421.843 154.556 425.014 Q157.936 428.185 157.936 433.602 Q157.936 439.181 154.464 442.282 Q150.992 445.361 144.672 445.361 Q142.496 445.361 140.228 444.991 Q137.982 444.62 135.575 443.88 L135.575 439.181 Q137.658 440.315 139.881 440.87 Q142.103 441.426 144.58 441.426 Q148.584 441.426 150.922 439.319 Q153.26 437.213 153.26 433.602 Q153.26 429.991 150.922 427.884 Q148.584 425.778 144.58 425.778 Q142.705 425.778 140.83 426.194 Q138.978 426.611 137.033 427.491 L137.033 410.13 Z\" fill=\"#000000\" fill-rule=\"nonzero\" fill-opacity=\"1\" /><path clip-path=\"url(#clip960)\" d=\"M91.5706 101.319 L99.2095 101.319 L99.2095 74.9536 L90.8993 76.6202 L90.8993 72.361 L99.1632 70.6943 L103.839 70.6943 L103.839 101.319 L111.478 101.319 L111.478 105.254 L91.5706 105.254 L91.5706 101.319 Z\" fill=\"#000000\" fill-rule=\"nonzero\" fill-opacity=\"1\" /><path clip-path=\"url(#clip960)\" d=\"M120.922 99.3747 L125.807 99.3747 L125.807 105.254 L120.922 105.254 L120.922 99.3747 Z\" fill=\"#000000\" fill-rule=\"nonzero\" fill-opacity=\"1\" /><path clip-path=\"url(#clip960)\" d=\"M145.992 73.773 Q142.381 73.773 140.552 77.3378 Q138.746 80.8795 138.746 88.0091 Q138.746 95.1155 140.552 98.6803 Q142.381 102.222 145.992 102.222 Q149.626 102.222 151.431 98.6803 Q153.26 95.1155 153.26 88.0091 Q153.26 80.8795 151.431 77.3378 Q149.626 73.773 145.992 73.773 M145.992 70.0693 Q151.802 70.0693 154.857 74.6758 Q157.936 79.2591 157.936 88.0091 Q157.936 96.7359 154.857 101.342 Q151.802 105.926 145.992 105.926 Q140.181 105.926 137.103 101.342 Q134.047 96.7359 134.047 88.0091 Q134.047 79.2591 137.103 74.6758 Q140.181 70.0693 145.992 70.0693 Z\" fill=\"#000000\" fill-rule=\"nonzero\" fill-opacity=\"1\" /><polyline clip-path=\"url(#clip962)\" style=\"stroke:#009af9; stroke-linecap:round; stroke-linejoin:round; stroke-width:4; stroke-opacity:1; fill:none\" points=\"255.035,766.845 255.086,773.634 255.238,780.422 255.493,787.208 255.849,793.993 256.307,800.775 256.867,807.553 257.529,814.327 258.292,821.097 259.156,827.861 260.122,834.619 261.189,841.37 262.358,848.114 263.627,854.85 264.998,861.577 266.469,868.294 268.041,875.002 269.714,881.698 271.487,888.383 273.36,895.056 275.333,901.716 277.406,908.362 279.579,914.995 281.85,921.612 284.222,928.214 286.692,934.8 289.26,941.37 291.927,947.921 294.692,954.455 297.555,960.97 300.516,967.465 303.574,973.941 306.729,980.395 309.98,986.828 313.328,993.24 316.772,999.628 320.312,1005.99 323.947,1012.34 327.676,1018.65 331.501,1024.94 335.419,1031.21 339.432,1037.45 343.537,1043.66 347.736,1049.85 352.027,1056 356.411,1062.13 360.886,1068.23 365.452,1074.3 370.109,1080.33 374.857,1086.34 379.694,1092.31 384.62,1098.25 389.636,1104.16 394.74,1110.04 399.932,1115.88 405.211,1121.68 410.577,1127.45 416.029,1133.19 421.567,1138.88 427.19,1144.54 432.897,1150.16 438.689,1155.75 444.564,1161.29 450.523,1166.8 456.563,1172.26 462.685,1177.69 468.888,1183.07 475.172,1188.41 481.535,1193.71 487.978,1198.97 494.499,1204.19 501.098,1209.36 507.774,1214.48 514.527,1219.56 521.355,1224.6 528.259,1229.59 535.237,1234.53 542.29,1239.43 549.415,1244.28 556.613,1249.08 563.882,1253.84 571.222,1258.54 578.633,1263.2 586.113,1267.81 593.661,1272.36 601.278,1276.87 608.962,1281.32 616.712,1285.73 624.528,1290.08 632.409,1294.38 640.354,1298.62 648.362,1302.82 656.433,1306.96 664.565,1311.04 672.758,1315.07 681.012,1319.05 689.324,1322.97 697.695,1326.84 706.124,1330.65 714.609,1334.4 723.15,1338.1 731.746,1341.73 740.397,1345.32 749.1,1348.84 757.856,1352.31 766.664,1355.71 775.522,1359.06 784.43,1362.35 793.387,1365.58 802.392,1368.75 811.444,1371.86 820.542,1374.91 829.686,1377.9 838.874,1380.82 848.105,1383.69 857.379,1386.49 866.694,1389.24 876.05,1391.92 885.446,1394.53 894.881,1397.09 904.353,1399.58 913.863,1402.01 923.408,1404.37 932.988,1406.67 942.603,1408.91 952.25,1411.08 961.93,1413.19 971.64,1415.24 981.381,1417.21 991.151,1419.13 1000.95,1420.98 1010.77,1422.76 1020.63,1424.48 1030.5,1426.13 1040.4,1427.72 1050.33,1429.24 1060.28,1430.69 1070.24,1432.08 1080.23,1433.4 1090.24,1434.65 1100.27,1435.84 1110.31,1436.96 1120.37,1438.01 1130.45,1439 1140.53,1439.92 1150.64,1440.77 1160.75,1441.55 1170.88,1442.27 1181.01,1442.92 1191.16,1443.5 1201.31,1444.02 1211.48,1444.46 1221.64,1444.84 1231.81,1445.15 1241.99,1445.39 1252.17,1445.57 1262.35,1445.68 1272.54,1445.72 1282.72,1445.69 1292.9,1445.59 1303.08,1445.43 1313.26,1445.19 1323.43,1444.89 1333.6,1444.53 1343.76,1444.09 1353.92,1443.59 1364.06,1443.02 1374.2,1442.38 1384.33,1441.67 1394.45,1440.9 1404.55,1440.06 1414.64,1439.15 1424.72,1438.17 1434.78,1437.13 1444.83,1436.02 1454.86,1434.84 1464.87,1433.6 1474.86,1432.29 1484.83,1430.91 1494.78,1429.47 1504.71,1427.96 1514.61,1426.39 1524.5,1424.74 1534.35,1423.04 1544.18,1421.27 1553.98,1419.43 1563.76,1417.52 1573.5,1415.55 1583.22,1413.52 1592.9,1411.42 1602.56,1409.26 1612.18,1407.03 1621.76,1404.74 1631.31,1402.39 1640.83,1399.97 1650.31,1397.49 1659.75,1394.94 1669.15,1392.34 1678.51,1389.67 1687.83,1386.93 1697.11,1384.14 1706.35,1381.28 1715.55,1378.37 1724.7,1375.39 1733.8,1372.35 1742.86,1369.25 1751.87,1366.09 1760.84,1362.87 1769.76,1359.59 1778.62,1356.25 1787.44,1352.85 1796.2,1349.4 1804.91,1345.88 1813.57,1342.31 1822.18,1338.68 1830.73,1334.99 1839.22,1331.25 1847.66,1327.45 1856.04,1323.59 1864.36,1319.68 1872.62,1315.71 1880.83,1311.69 1888.97,1307.61 1897.05,1303.48 1905.07,1299.29 1913.02,1295.06 1920.91,1290.77 1928.74,1286.42 1936.5,1282.03 1944.2,1277.58 1951.82,1273.08 1959.38,1268.53 1966.87,1263.94 1974.3,1259.29 1981.65,1254.59 1988.93,1249.84 1996.14,1245.05 2003.27,1240.21 2010.34,1235.32 2017.33,1230.38 2024.24,1225.4 2031.08,1220.37 2037.85,1215.29 2044.54,1210.18 2051.15,1205.01 2057.68,1199.8 2064.14,1194.55 2070.51,1189.26 2076.81,1183.93 2083.03,1178.55 2089.16,1173.13 2095.21,1167.67 2101.19,1162.17 2107.07,1156.63 2112.88,1151.06 2118.6,1145.44 2124.24,1139.79 2129.79,1134.1 2135.25,1128.37 2140.63,1122.6 2145.93,1116.8 2151.13,1110.97 2156.25,1105.1 2161.28,1099.2 2166.22,1093.26 2171.07,1087.29 2175.83,1081.29 2180.51,1075.26 2185.09,1069.2 2189.58,1063.1 2193.97,1056.98 2198.28,1050.83 2202.49,1044.65 2206.61,1038.44 2210.64,1032.21 2214.57,1025.94 2218.41,1019.66 2222.16,1013.34 2225.81,1007.01 2229.36,1000.64 2232.82,994.259 2236.19,987.851 2239.45,981.421 2242.62,974.97 2245.7,968.498 2248.67,962.006 2251.55,955.494 2254.33,948.963 2257.01,942.414 2259.6,935.848 2262.08,929.265 2264.47,922.665 2266.76,916.05 2268.95,909.42 2271.04,902.775 2273.03,896.117 2274.91,889.447 2276.7,882.764 2278.39,876.069 2279.98,869.363 2281.47,862.647 2282.85,855.922 2284.14,849.188 2285.32,842.445 2286.41,835.695 2287.39,828.938 2288.27,822.175 2289.05,815.406 2289.73,808.632 2290.3,801.854 2290.78,795.073 2291.15,788.289 2291.42,781.503 2291.59,774.715 2291.66,767.926 2291.62,761.138 2291.49,754.35 2291.25,747.563 2290.91,740.778 2290.47,733.996 2289.92,727.217 2289.28,720.442 2288.53,713.671 2287.68,706.906 2286.73,700.147 2285.68,693.395 2284.53,686.65 2283.27,679.912 2281.92,673.184 2280.47,666.465 2278.91,659.756 2277.25,653.058 2275.5,646.371 2273.64,639.696 2271.68,633.034 2269.62,626.385 2267.47,619.751 2265.21,613.131 2262.86,606.526 2260.4,599.938 2257.85,593.366 2255.2,586.811 2252.45,580.275 2249.6,573.757 2246.66,567.258 2243.61,560.78 2240.47,554.322 2237.24,547.885 2233.9,541.47 2230.48,535.078 2226.95,528.709 2223.33,522.363 2219.62,516.042 2215.81,509.747 2211.9,503.477 2207.91,497.233 2203.82,491.016 2199.63,484.827 2195.36,478.666 2190.99,472.534 2186.53,466.431 2181.97,460.358 2177.33,454.316 2172.6,448.305 2167.78,442.326 2162.86,436.38 2157.86,430.466 2152.77,424.587 2147.59,418.741 2142.33,412.93 2136.98,407.155 2131.54,401.415 2126.01,395.713 2120.4,390.047 2114.71,384.419 2108.93,378.829 2103.07,373.278 2097.13,367.766 2091.1,362.294 2084.99,356.863 2078.8,351.473 2072.53,346.124 2066.18,340.817 2059.75,335.553 2053.24,330.332 2046.65,325.155 2039.99,320.022 2033.25,314.933 2026.43,309.89 2019.54,304.892 2012.57,299.941 2005.53,295.036 1998.42,290.179 1991.23,285.369 1983.97,280.607 1976.64,275.894 1969.25,271.23 1961.78,266.615 1954.24,262.051 1946.63,257.537 1938.96,253.074 1931.22,248.662 1923.41,244.303 1915.54,239.995 1907.61,235.74 1899.61,231.538 1891.55,227.39 1883.43,223.296 1875.24,219.256 1867,215.271 1858.7,211.341 1850.33,207.466 1841.92,203.648 1833.44,199.885 1824.91,196.18 1816.32,192.532 1807.68,188.94 1798.98,185.407 1790.23,181.932 1781.44,178.516 1772.59,175.158 1763.68,171.859 1754.74,168.62 1745.74,165.441 1736.69,162.322 1727.6,159.263 1718.47,156.265 1709.29,153.328 1700.06,150.453 1690.79,147.639 1681.49,144.887 1672.14,142.197 1662.75,139.57 1653.32,137.005 1643.85,134.504 1634.35,132.065 1624.81,129.69 1615.23,127.379 1605.62,125.132 1595.98,122.949 1586.31,120.83 1576.6,118.776 1566.87,116.787 1557.1,114.863 1547.31,113.004 1537.49,111.21 1527.64,109.482 1517.76,107.82 1507.87,106.223 1497.95,104.693 1488,103.228 1478.04,101.831 1468.05,100.499 1458.05,99.2346 1448.02,98.0367 1437.98,96.9057 1427.93,95.8416 1417.85,94.8446 1407.77,93.9149 1397.67,93.0524 1387.55,92.2573 1377.43,91.5297 1367.29,90.8696 1357.15,90.2771 1347,89.7523 1336.84,89.2951 1326.67,88.9057 1316.5,88.5842 1306.32,88.3304 1296.14,88.1445 1285.96,88.0264 1275.78,87.9763 1265.6,87.994 1255.41,88.0796 1245.23,88.2331 1235.06,88.4544 1224.88,88.7436 1214.71,89.1006 1204.55,89.5254 1194.39,90.0179 1184.25,90.5781 1174.11,91.2059 1163.98,91.9013 1153.86,92.6641 1143.75,93.4944 1133.66,94.392 1123.58,95.3569 1113.51,96.3889 1103.46,97.4879 1093.43,98.6539 1083.42,99.8867 1073.42,101.186 1063.45,102.552 1053.5,103.985 1043.56,105.484 1033.65,107.049 1023.77,108.679 1013.91,110.376 1004.08,112.138 994.269,113.966 984.49,115.859 974.74,117.818 965.019,119.841 955.33,121.929 945.672,124.081 936.047,126.297 926.456,128.578 916.899,130.923 907.378,133.331 897.894,135.802 888.447,138.337 879.039,140.934 869.67,143.594 860.342,146.316 851.055,149.101 841.81,151.947 832.608,154.854 823.45,157.823 814.337,160.853 805.271,163.943 796.25,167.094 787.278,170.304 778.354,173.574 769.48,176.904 760.656,180.292 751.884,183.74 743.163,187.245 734.496,190.809 725.883,194.43 717.324,198.108 708.821,201.843 700.374,205.635 691.984,209.483 683.653,213.386 675.381,217.345 667.168,221.359 659.016,225.427 650.926,229.55 642.898,233.726 634.933,237.955 627.031,242.238 619.195,246.573 611.423,250.96 603.718,255.398 596.08,259.888 588.51,264.428 581.008,269.019 573.575,273.659 566.212,278.349 558.92,283.087 551.7,287.874 544.551,292.709 537.476,297.591 530.474,302.521 523.546,307.496 516.694,312.518 509.917,317.585 503.216,322.697 496.592,327.853 490.046,333.053 483.579,338.297 477.19,343.583 470.881,348.912 464.652,354.282 458.504,359.694 452.438,365.147 446.453,370.639 440.552,376.172 434.733,381.743 428.999,387.353 423.349,393.001 417.784,398.686 412.304,404.408 406.911,410.166 401.604,415.96 396.384,421.789 391.252,427.653 386.208,433.55 381.253,439.481 376.388,445.445 371.612,451.44 366.926,457.467 362.33,463.526 357.826,469.614 353.413,475.732 349.093,481.88 344.865,488.055 340.729,494.259 336.687,500.49 332.739,506.748 328.884,513.031 325.124,519.34 321.459,525.674 317.889,532.032 314.415,538.413 311.036,544.817 307.754,551.244 304.568,557.691 301.48,564.16 298.488,570.649 295.594,577.158 292.797,583.686 290.099,590.232 287.499,596.795 284.998,603.376 282.595,609.973 280.291,616.586 278.087,623.214 275.983,629.856 273.978,636.511 272.073,643.18 270.268,649.862 268.563,656.554 266.959,663.258 265.456,669.973 264.053,676.697 262.751,683.43 261.55,690.171 260.451,696.92 259.453,703.676 258.556,710.438 257.761,717.206 257.067,723.979 256.475,730.756 255.984,737.537 255.595,744.321 255.308,751.107 255.123,757.894 255.04,764.683 \"/>\n",
       "</svg>\n"
      ]
     },
     "execution_count": 24,
     "metadata": {},
     "output_type": "execute_result"
    }
   ],
   "source": [
    "# Plot a circle\n",
    "using LinearAlgebra\n",
    "using Plots\n",
    "th = [-pi: 0.01: pi;]\n",
    "X = cos.(th)\n",
    "Y = sin.(th)\n",
    "plot(X, Y, legend=false, aspectration=:equal)"
   ]
  }
 ],
 "metadata": {
  "kernelspec": {
   "display_name": "Julia 1.9.3",
   "language": "julia",
   "name": "julia-1.9"
  },
  "language_info": {
   "file_extension": ".jl",
   "mimetype": "application/julia",
   "name": "julia",
   "version": "1.9.3"
  }
 },
 "nbformat": 4,
 "nbformat_minor": 2
}
