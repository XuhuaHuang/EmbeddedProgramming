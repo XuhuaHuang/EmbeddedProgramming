{
 "cells": [
  {
   "cell_type": "code",
   "execution_count": 1,
   "metadata": {},
   "outputs": [
    {
     "name": "stdout",
     "output_type": "stream",
     "text": [
      "[ 1.  2.  3.  4.  5.  6.  7.  8.  9. 10.]\n",
      "[ 1.  3.  6. 10. 15. 21. 28. 36. 45. 55.]\n"
     ]
    }
   ],
   "source": [
    "import numpy as np\n",
    "\n",
    "a_i: np.ndarray = np.linspace(start=1, stop=10, num=10)\n",
    "print(a_i)\n",
    "\n",
    "a_i_cumsum = np.cumsum(a_i)\n",
    "print(a_i_cumsum)"
   ]
  },
  {
   "cell_type": "code",
   "execution_count": 7,
   "metadata": {},
   "outputs": [
    {
     "name": "stdout",
     "output_type": "stream",
     "text": [
      "[      1.       2.       6.      24.     120.     720.    5040.   40320.\n",
      "  362880. 3628800.]\n"
     ]
    }
   ],
   "source": [
    "a_i_cumprod = np.cumprod(a_i)\n",
    "np.set_printoptions(suppress=True)\n",
    "print(a_i_cumprod)"
   ]
  },
  {
   "cell_type": "code",
   "execution_count": 2,
   "metadata": {},
   "outputs": [
    {
     "name": "stdout",
     "output_type": "stream",
     "text": [
      "[[2, 2, 3], [4, 6, 6]]\n"
     ]
    }
   ],
   "source": [
    "A: list[list[int]] = [\n",
    "    [1, 2, 3],\n",
    "    [4, 5, 6]\n",
    "]\n",
    "\n",
    "B: list[list[int]] = [\n",
    "    [1, 0, 0],\n",
    "    [0, 1, 0]\n",
    "]\n",
    "\n",
    "A_plus_B = [[A[i][j] + B[i][j]\n",
    "            for j in range(len(A[0]))]\n",
    "            for i in range(len(A))]\n",
    "\n",
    "print(A_plus_B)"
   ]
  },
  {
   "cell_type": "code",
   "execution_count": 3,
   "metadata": {},
   "outputs": [
    {
     "data": {
      "text/plain": [
       "array([[2, 2, 3],\n",
       "       [4, 6, 6]])"
      ]
     },
     "execution_count": 3,
     "metadata": {},
     "output_type": "execute_result"
    }
   ],
   "source": [
    "np.array(A) + np.array(B)"
   ]
  },
  {
   "cell_type": "code",
   "execution_count": 4,
   "metadata": {},
   "outputs": [
    {
     "data": {
      "text/plain": [
       "array([[2, 2, 3],\n",
       "       [4, 6, 6]])"
      ]
     },
     "execution_count": 4,
     "metadata": {},
     "output_type": "execute_result"
    }
   ],
   "source": [
    "np.add(A, B)"
   ]
  },
  {
   "cell_type": "code",
   "execution_count": 5,
   "metadata": {},
   "outputs": [],
   "source": [
    "from mpmath import mp\n",
    "import streamlit as st  # pip install -U streamlit\n",
    "import numpy as np\n",
    "import matplotlib.pyplot as plt"
   ]
  },
  {
   "cell_type": "code",
   "execution_count": 6,
   "metadata": {},
   "outputs": [
    {
     "name": "stderr",
     "output_type": "stream",
     "text": [
      "2023-10-23 23:02:48.588 WARNING streamlit.runtime.state.session_state_proxy: Session state does not function when running a script without `streamlit run`\n",
      "2023-10-23 23:02:49.148 \n",
      "  \u001b[33m\u001b[1mWarning:\u001b[0m to view this Streamlit app on a browser, run it with the following\n",
      "  command:\n",
      "\n",
      "    streamlit run C:\\Users\\hux1mis\\AppData\\Roaming\\Python\\Python311\\site-packages\\ipykernel_launcher.py [ARGUMENTS]\n"
     ]
    },
    {
     "data": {
      "text/plain": [
       "DeltaGenerator()"
      ]
     },
     "execution_count": 6,
     "metadata": {},
     "output_type": "execute_result"
    },
    {
     "data": {
      "image/png": "[encoded data removed]",
      "text/plain": [
       "<Figure size 640x480 with 1 Axes>"
      ]
     },
     "metadata": {},
     "output_type": "display_data"
    }
   ],
   "source": [
    "with st.sidebar:\n",
    "\n",
    "    num_digits = st.slider(\n",
    "        \"Number of decimal digits:\", min_value=10000, max_value=100000, step=10000\n",
    "    )\n",
    "\n",
    "mp.dps = num_digits + 2\n",
    "pi_digits = mp.pi\n",
    "# st.write(str(pi_digits))\n",
    "pi_digits = str(pi_digits)[2:]\n",
    "pi_digits_list = [int(x) for x in pi_digits]\n",
    "# st.write(pi_digits_list)\n",
    "\n",
    "pi_digits_array = np.array(pi_digits_list)\n",
    "\n",
    "counts = np.bincount(pi_digits_array)\n",
    "\n",
    "fig, ax = plt.subplots()\n",
    "\n",
    "ax.barh(range(10), counts, align=\"center\", edgecolor=[0.6, 0.6, 0.6])\n",
    "\n",
    "ax.spines[\"top\"].set_visible(False)\n",
    "ax.spines[\"right\"].set_visible(False)\n",
    "\n",
    "ax.set_xlabel(\"Count\")\n",
    "ax.set_ylabel(\"Digit, 0~9\")\n",
    "plt.yticks(range(10))\n",
    "\n",
    "st.pyplot(fig)"
   ]
  }
 ],
 "metadata": {
  "kernelspec": {
   "display_name": "Python 3",
   "language": "python",
   "name": "python3"
  },
  "language_info": {
   "name": "python",
   "version": "3.11.4"
  }
 },
 "nbformat": 4,
 "nbformat_minor": 2
}
