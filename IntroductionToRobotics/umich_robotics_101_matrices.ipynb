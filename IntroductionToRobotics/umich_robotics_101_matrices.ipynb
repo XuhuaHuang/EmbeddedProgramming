{
 "cells": [
  {
   "cell_type": "markdown",
   "metadata": {},
   "source": [
    "# University of Michigan - Robotics\n",
    "# ROB 101, Fall 2021, Computational Linear Algebra\n",
    "Credits: <https://www.youtube.com/playlist?list=PLdPQZLMHRjDJ5d_dE4FeOviv0gRe4UYsB>"
   ]
  },
  {
   "cell_type": "markdown",
   "metadata": {},
   "source": [
    "## Matrices and Matrix Determinant"
   ]
  },
  {
   "cell_type": "markdown",
   "metadata": {},
   "source": [
    "### Create simple matrix and access element in Julia"
   ]
  },
  {
   "cell_type": "code",
   "execution_count": 1,
   "metadata": {},
   "outputs": [
    {
     "data": {
      "text/plain": [
       "3×2 Matrix{Int64}:\n",
       " 1  2\n",
       " 3  4\n",
       " 5  6"
      ]
     },
     "execution_count": 1,
     "metadata": {},
     "output_type": "execute_result"
    }
   ],
   "source": [
    "# let's define a 3x2 matrix\n",
    "# rows are separated by semicolons in Julia\n",
    "# elements are separated by spaces in each row in Julia\n",
    "A = [1 2; 3 4; 5 6]"
   ]
  },
  {
   "cell_type": "code",
   "execution_count": 2,
   "metadata": {},
   "outputs": [
    {
     "data": {
      "text/plain": [
       "2×3 Matrix{Float64}:\n",
       " 1.2  -2.6      11.7\n",
       " 3.1   1.57143   0.0"
      ]
     },
     "execution_count": 2,
     "metadata": {},
     "output_type": "execute_result"
    }
   ],
   "source": [
    "# let's create a 2x3 matrix\n",
    "# it is also referred as a rectangular matrix\n",
    "A = [1.2 -2.6 11.7; 3.1 11/7 0]"
   ]
  },
  {
   "cell_type": "code",
   "execution_count": 3,
   "metadata": {},
   "outputs": [
    {
     "data": {
      "text/plain": [
       "3.1"
      ]
     },
     "execution_count": 3,
     "metadata": {},
     "output_type": "execute_result"
    }
   ],
   "source": [
    "# note that Julia is a index-1 based language\n",
    "# meaning that the first element in any collection is accessed with index 1 instead of 0\n",
    "# access the first element in the second row\n",
    "A[2][1]"
   ]
  },
  {
   "cell_type": "markdown",
   "metadata": {},
   "source": [
    "### Linear Systems of Equations in Matrix Form\n",
    "* Notation `Ax = b`\n",
    "* `A` is an `n x n` matrix of the coefficients\n",
    "* `x` is a column `n-vector` of the variables\n",
    "* `b` is a column `n-vector` of numbers on the right side of the equations\n",
    "\n",
    "a11 x1 + a12 x2 = b1  \n",
    "a21 x1 + a22 x2 = b2\n",
    "\n",
    "can be also written as:\n",
    "`[a11 a12; a21 a22][x1 x2] = [b1 b2]`  \n",
    "where `A := [a11 a12; a21 a22]`, `x := [x1 x2]`, `b := [b1 b2]`,  \n",
    "and the `:=` operator means `define` or `definition`."
   ]
  },
  {
   "cell_type": "markdown",
   "metadata": {},
   "source": [
    "Example: Express the systems of linear equation in matrix form:\n",
    "\n",
    "x1 + 5x2 = 4  \n",
    "3x1 - x2 + 7x3 = 2  \n",
    "-x1 + 2x3 = -5"
   ]
  },
  {
   "cell_type": "markdown",
   "metadata": {},
   "source": [
    "`x := [x1 x2 x3]`  \n",
    "`b := [4 2 -5]`  \n",
    "`A := [1 5 0; 3 -1 7; -1 0 2]`"
   ]
  },
  {
   "cell_type": "code",
   "execution_count": 4,
   "metadata": {},
   "outputs": [
    {
     "data": {
      "text/plain": [
       "3×3 Matrix{Int64}:\n",
       "  1   5  0\n",
       "  3  -2  7\n",
       " -1   0  2"
      ]
     },
     "execution_count": 4,
     "metadata": {},
     "output_type": "execute_result"
    }
   ],
   "source": [
    "A = [1 5 0; 3 -2 7; -1 0 2]"
   ]
  },
  {
   "cell_type": "code",
   "execution_count": 5,
   "metadata": {},
   "outputs": [
    {
     "data": {
      "text/plain": [
       "3-element Vector{Int64}:\n",
       "  4\n",
       "  2\n",
       " -5"
      ]
     },
     "execution_count": 5,
     "metadata": {},
     "output_type": "execute_result"
    }
   ],
   "source": [
    "b = [4; 2; -5]"
   ]
  },
  {
   "cell_type": "markdown",
   "metadata": {},
   "source": [
    "### Matrix Determinant\n",
    "* The determinant is a function that maps a square matrix to a real number.\n",
    "* The determinant is not defined for a rectangular matrix.\n",
    "* The determinant of a 1 x 1 matrix is the scalar value that defines the matrix."
   ]
  },
  {
   "cell_type": "markdown",
   "metadata": {},
   "source": [
    "The determinant of a 2 x 2 matrix `A = [a b; c d]` is `det(A) = ad - bc`.  \n",
    "Another way of writting it is `det([a b;c d])`."
   ]
  },
  {
   "cell_type": "markdown",
   "metadata": {},
   "source": [
    "use the following code nippet to add linear algebra package\n",
    "```julia\n",
    "using Pkg\n",
    "Pkg.add(\"LinearAlgebra\")\n",
    "using LinearAlgebra\n",
    "```"
   ]
  },
  {
   "cell_type": "code",
   "execution_count": 6,
   "metadata": {},
   "outputs": [
    {
     "name": "stderr",
     "output_type": "stream",
     "text": [
      "\u001b[32m\u001b[1m   Resolving\u001b[22m\u001b[39m package versions...\n",
      "\u001b[32m\u001b[1m  No Changes\u001b[22m\u001b[39m to `C:\\Users\\hux1mis\\.julia\\environments\\v1.9\\Project.toml`\n",
      "\u001b[32m\u001b[1m  No Changes\u001b[22m\u001b[39m to `C:\\Users\\hux1mis\\.julia\\environments\\v1.9\\Manifest.toml`\n"
     ]
    },
    {
     "data": {
      "text/plain": [
       "0.0"
      ]
     },
     "execution_count": 6,
     "metadata": {},
     "output_type": "execute_result"
    }
   ],
   "source": [
    "using Pkg\n",
    "Pkg.add(\"LinearAlgebra\")\n",
    "using LinearAlgebra\n",
    "\n",
    "A = [1 2 3; 4 5 6; 7 8 9];\n",
    "det(A)"
   ]
  },
  {
   "cell_type": "markdown",
   "metadata": {},
   "source": [
    "A square system of linear equations `Ax = b` will have a unique solution x when `det(A) != 0`  \n",
    "If `det(A) == 0`, the system either has no possible solutions or infinite possible solutions.  \n",
    "The determinant is only defined for square matrix."
   ]
  }
 ],
 "metadata": {
  "kernelspec": {
   "display_name": "Julia 1.9.3",
   "language": "julia",
   "name": "julia-1.9"
  },
  "language_info": {
   "file_extension": ".jl",
   "mimetype": "application/julia",
   "name": "julia",
   "version": "1.9.3"
  },
  "polyglot_notebook": {
   "kernelInfo": {
    "defaultKernelName": "csharp",
    "items": [
     {
      "aliases": [],
      "name": "csharp"
     }
    ]
   }
  }
 },
 "nbformat": 4,
 "nbformat_minor": 2
}
